{
 "cells": [
  {
   "cell_type": "code",
   "execution_count": 4,
   "metadata": {
    "id": "Lowkbf9s19Oz"
   },
   "outputs": [],
   "source": [
    "import requests\n",
    "import json\n",
    "import csv\n",
    "import pandas as pd\n",
    "import aiohttp\n",
    "import asyncio\n",
    "import nest_asyncio\n",
    "import logging"
   ]
  },
  {
   "cell_type": "code",
   "execution_count": 5,
   "metadata": {},
   "outputs": [],
   "source": [
    "logging.basicConfig(level=logging.INFO, filename=\"API_gutendex_log.log\",filemode=\"w\",\n",
    "                    format=\"%(asctime)s %(levelname)s %(message)s\")"
   ]
  },
  {
   "cell_type": "code",
   "execution_count": 6,
   "metadata": {},
   "outputs": [
    {
     "data": {
      "text/plain": [
       "\"\\nwith open('scraping_log.log', 'w'):\\n    pass # Clearing logs\\n\""
      ]
     },
     "execution_count": 6,
     "metadata": {},
     "output_type": "execute_result"
    }
   ],
   "source": [
    "'''\n",
    "with open('scraping_log.log', 'w'):\n",
    "    pass # Clearing logs\n",
    "'''"
   ]
  },
  {
   "cell_type": "code",
   "execution_count": 9,
   "metadata": {
    "colab": {
     "base_uri": "https://localhost:8080/"
    },
    "id": "R87caWlh4zQZ",
    "outputId": "5b8d5020-a10e-4016-8698-971e88d864bf"
   },
   "outputs": [],
   "source": [
    "def fetch_all_books(topic):\n",
    "    logging.info('Book fetching started')\n",
    "    url = \"https://gutendex.com/books\"\n",
    "    params = {\"topic\": topic} if topic else {}\n",
    "    all_books = []\n",
    "\n",
    "    while url:\n",
    "        try:\n",
    "            response = requests.get(url, params=params if url == \"https://gutendex.com/books\" else None)\n",
    "            data = response.json()\n",
    "            all_books.extend(data[\"results\"])\n",
    "            url = data[\"next\"]\n",
    "        except Exception as e:\n",
    "            logging.error(f\"Error while requesting\", exc_info=e)\n",
    "\n",
    "    return all_books\n",
    "\n",
    "def extract_book_data(books):\n",
    "    logging.info(f'Book data extraction started')\n",
    "    data = []\n",
    "    for book in books:\n",
    "        logging.info(f'Getting info about {book[\"title\"]} books')\n",
    "        authors = book.get(\"authors\", [])\n",
    "        if authors:\n",
    "            logging.info(f'Getting info about {book[\"title\"]} author')\n",
    "            first_author = authors[0] \n",
    "        else:\n",
    "            logging.warning(f'No info about {book[\"title\"]} author')\n",
    "            first_author = {\"name\": \"N/A\", \"birth_year\": \"N/A\", \"death_year\": \"N/A\"}\n",
    "\n",
    "        data.append({\n",
    "            \"title\": book[\"title\"],\n",
    "            \"author_name\": first_author[\"name\"],\n",
    "            \"author_birth_year\": first_author.get(\"birth_year\", \"N/A\"),\n",
    "            \"author_death_year\": first_author.get(\"death_year\", \"N/A\"),\n",
    "            \"translators\": \", \".join([t[\"name\"] for t in book.get(\"translators\", [])]),\n",
    "            \"subjects\": \", \".join(book.get(\"subjects\", [])),\n",
    "            \"bookshelves\": \", \".join(book.get(\"bookshelves\", [])),\n",
    "            \"copyright\": book.get(\"copyright\"),\n",
    "            \"download_count\": book.get(\"download_count\")\n",
    "        })\n",
    "\n",
    "    return pd.DataFrame(data)"
   ]
  },
  {
   "cell_type": "code",
   "execution_count": null,
   "metadata": {},
   "outputs": [],
   "source": [
    "books_child = fetch_all_books(\"children\")\n",
    "df_child = extract_book_data(books_child)\n",
    "df_child.to_csv(\"children_books.csv\", index=False)\n",
    "logging.info(f'Dataset with children books saved as children_books.csv')\n",
    "logging.info(f'Number of books for children: {len(df_child)}')"
   ]
  },
  {
   "cell_type": "code",
   "execution_count": null,
   "metadata": {},
   "outputs": [],
   "source": [
    "books_all = fetch_all_books(\"\")  # Пустая строка или None получит все книги без конкретной темы\n",
    "df_all = extract_book_data(books_all)\n",
    "df_all.to_csv(\"non_children_books.csv\", index=False)\n",
    "logging.info(f'Dataset with all books saved as non_children_books.csv')\n",
    "logging.info(f'Number of books for everyone: {len(df_all)}')"
   ]
  }
 ],
 "metadata": {
  "colab": {
   "provenance": []
  },
  "kernelspec": {
   "display_name": "Python 3 (ipykernel)",
   "language": "python",
   "name": "python3"
  },
  "language_info": {
   "codemirror_mode": {
    "name": "ipython",
    "version": 3
   },
   "file_extension": ".py",
   "mimetype": "text/x-python",
   "name": "python",
   "nbconvert_exporter": "python",
   "pygments_lexer": "ipython3",
   "version": "3.12.7"
  }
 },
 "nbformat": 4,
 "nbformat_minor": 4
}
