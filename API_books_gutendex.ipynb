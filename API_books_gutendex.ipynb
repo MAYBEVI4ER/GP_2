{
 "cells": [
  {
   "cell_type": "code",
   "execution_count": null,
   "metadata": {
    "id": "Lowkbf9s19Oz"
   },
   "outputs": [],
   "source": [
    "import requests\n",
    "import json\n",
    "import csv\n",
    "import pandas as pd\n",
    "import aiohttp\n",
    "import asyncio\n",
    "import nest_asyncio"
   ]
  },
  {
   "cell_type": "code",
   "execution_count": null,
   "metadata": {
    "colab": {
     "base_uri": "https://localhost:8080/"
    },
    "id": "R87caWlh4zQZ",
    "outputId": "5b8d5020-a10e-4016-8698-971e88d864bf"
   },
   "outputs": [
    {
     "name": "stdout",
     "output_type": "stream",
     "text": [
      "Dataset saved as children_books.csv\n"
     ]
    }
   ],
   "source": [
    "def fetch_all_books(topic=\"children\"):\n",
    "    url = \"https://gutendex.com/books\"\n",
    "    params = {\"topic\": topic}\n",
    "    all_books = []\n",
    "\n",
    "    while url:\n",
    "        response = requests.get(url, params=params if url == \"https://gutendex.com/books\" else None)\n",
    "        data = response.json()\n",
    "        all_books.extend(data[\"results\"])\n",
    "        url = data[\"next\"]  # Следующая страница\n",
    "\n",
    "    return all_books\n",
    "\n",
    "def extract_book_data(books):\n",
    "    data = []\n",
    "    for book in books:\n",
    "        authors = book.get(\"authors\", [])\n",
    "        first_author = authors[0] if authors else {\"name\": \"N/A\", \"birth_year\": \"N/A\", \"death_year\": \"N/A\"}\n",
    "\n",
    "        data.append({\n",
    "            \"title\": book[\"title\"],\n",
    "            \"author_name\": first_author[\"name\"],\n",
    "            \"author_birth_year\": first_author.get(\"birth_year\", \"N/A\"),\n",
    "            \"author_death_year\": first_author.get(\"death_year\", \"N/A\"),\n",
    "            \"translators\": \", \".join([t[\"name\"] for t in book.get(\"translators\", [])]),\n",
    "            \"subjects\": \", \".join(book.get(\"subjects\", [])),\n",
    "            \"bookshelves\": \", \".join(book.get(\"bookshelves\", [])),\n",
    "            \"copyright\": book.get(\"copyright\"),\n",
    "            \"download_count\": book.get(\"download_count\")\n",
    "        })\n",
    "\n",
    "    return pd.DataFrame(data)\n",
    "\n",
    "books = fetch_all_books()\n",
    "df = extract_book_data(books)\n",
    "df.to_csv(\"children_books.csv\", index=False)\n",
    "print(\"Dataset saved as children_books.csv\")"
   ]
  },
  {
   "cell_type": "code",
   "execution_count": null,
   "metadata": {
    "colab": {
     "base_uri": "https://localhost:8080/"
    },
    "id": "KdddgViIkore",
    "outputId": "6ea4054e-6452-4313-e8da-71b380e6d7aa"
   },
   "outputs": [
    {
     "name": "stdout",
     "output_type": "stream",
     "text": [
      "Количество строк в файле children_books.csv: 8999\n"
     ]
    }
   ],
   "source": [
    "df = pd.read_csv(\"children_books.csv\")\n",
    "\n",
    "# Выведем количество строк в датафрейме\n",
    "print(f\"Количество строк в файле children_books.csv: {len(df)}\")"
   ]
  },
  {
   "cell_type": "code",
   "execution_count": null,
   "metadata": {
    "colab": {
     "base_uri": "https://localhost:8080/"
    },
    "id": "_6PPiEY-kpf5",
    "outputId": "e8061e2e-97dd-478d-a167-f14ba2242900"
   },
   "outputs": [
    {
     "name": "stdout",
     "output_type": "stream",
     "text": [
      "Dataset saved as non_children_books.csv\n"
     ]
    }
   ],
   "source": [
    "def fetch_all_books(topic=None):\n",
    "    url = \"https://gutendex.com/books\"\n",
    "    params = {\"topic\": topic} if topic else {}\n",
    "    all_books = []\n",
    "\n",
    "    while url:\n",
    "        response = requests.get(url, params=params if url == \"https://gutendex.com/books\" else None)\n",
    "        data = response.json()\n",
    "        all_books.extend(data[\"results\"])\n",
    "        url = data[\"next\"]  # Следующая страница\n",
    "\n",
    "    return all_books\n",
    "\n",
    "def extract_book_data(books):\n",
    "    data = []\n",
    "    for book in books:\n",
    "        authors = book.get(\"authors\", [])\n",
    "        first_author = authors[0] if authors else {\"name\": \"N/A\", \"birth_year\": \"N/A\", \"death_year\": \"N/A\"}\n",
    "\n",
    "        data.append({\n",
    "            \"title\": book[\"title\"],\n",
    "            \"author_name\": first_author[\"name\"],\n",
    "            \"author_birth_year\": first_author.get(\"birth_year\", \"N/A\"),\n",
    "            \"author_death_year\": first_author.get(\"death_year\", \"N/A\"),\n",
    "            \"translators\": \", \".join([t[\"name\"] for t in book.get(\"translators\", [])]),\n",
    "            \"subjects\": \", \".join(book.get(\"subjects\", [])),\n",
    "            \"bookshelves\": \", \".join(book.get(\"bookshelves\", [])),\n",
    "            \"copyright\": book.get(\"copyright\"),\n",
    "            \"download_count\": book.get(\"download_count\")\n",
    "        })\n",
    "\n",
    "    return pd.DataFrame(data)\n",
    "\n",
    "# Fetch all books excluding children\n",
    "books = fetch_all_books(topic=\"\")  # Пустая строка или None получит все книги без конкретной темы\n",
    "df = extract_book_data(books)\n",
    "df.to_csv(\"non_children_books.csv\", index=False)\n",
    "print(\"Dataset saved as non_children_books.csv\")"
   ]
  }
 ],
 "metadata": {
  "colab": {
   "provenance": []
  },
  "kernelspec": {
   "display_name": "Python 3 (ipykernel)",
   "language": "python",
   "name": "python3"
  },
  "language_info": {
   "codemirror_mode": {
    "name": "ipython",
    "version": 3
   },
   "file_extension": ".py",
   "mimetype": "text/x-python",
   "name": "python",
   "nbconvert_exporter": "python",
   "pygments_lexer": "ipython3",
   "version": "3.12.7"
  }
 },
 "nbformat": 4,
 "nbformat_minor": 4
}
