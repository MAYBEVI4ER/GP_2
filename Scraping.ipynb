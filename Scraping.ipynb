{
 "cells": [
  {
   "cell_type": "markdown",
   "metadata": {},
   "source": [
    "# Scraping Amazon"
   ]
  },
  {
   "cell_type": "code",
   "execution_count": 1,
   "metadata": {},
   "outputs": [
    {
     "name": "stdout",
     "output_type": "stream",
     "text": [
      "Defaulting to user installation because normal site-packages is not writeable\n",
      "Requirement already satisfied: selenium in c:\\users\\dan\\appdata\\roaming\\python\\python312\\site-packages (4.29.0)\n",
      "Requirement already satisfied: urllib3<3,>=1.26 in c:\\programdata\\anaconda3\\lib\\site-packages (from urllib3[socks]<3,>=1.26->selenium) (2.2.3)\n",
      "Requirement already satisfied: trio~=0.17 in c:\\users\\dan\\appdata\\roaming\\python\\python312\\site-packages (from selenium) (0.29.0)\n",
      "Requirement already satisfied: trio-websocket~=0.9 in c:\\users\\dan\\appdata\\roaming\\python\\python312\\site-packages (from selenium) (0.12.2)\n",
      "Requirement already satisfied: certifi>=2021.10.8 in c:\\programdata\\anaconda3\\lib\\site-packages (from selenium) (2024.8.30)\n",
      "Requirement already satisfied: typing_extensions~=4.9 in c:\\programdata\\anaconda3\\lib\\site-packages (from selenium) (4.11.0)\n",
      "Requirement already satisfied: websocket-client~=1.8 in c:\\programdata\\anaconda3\\lib\\site-packages (from selenium) (1.8.0)\n",
      "Requirement already satisfied: attrs>=23.2.0 in c:\\users\\dan\\appdata\\roaming\\python\\python312\\site-packages (from trio~=0.17->selenium) (25.1.0)\n",
      "Requirement already satisfied: sortedcontainers in c:\\programdata\\anaconda3\\lib\\site-packages (from trio~=0.17->selenium) (2.4.0)\n",
      "Requirement already satisfied: idna in c:\\programdata\\anaconda3\\lib\\site-packages (from trio~=0.17->selenium) (3.7)\n",
      "Requirement already satisfied: outcome in c:\\users\\dan\\appdata\\roaming\\python\\python312\\site-packages (from trio~=0.17->selenium) (1.3.0.post0)\n",
      "Requirement already satisfied: sniffio>=1.3.0 in c:\\programdata\\anaconda3\\lib\\site-packages (from trio~=0.17->selenium) (1.3.0)\n",
      "Requirement already satisfied: cffi>=1.14 in c:\\programdata\\anaconda3\\lib\\site-packages (from trio~=0.17->selenium) (1.17.1)\n",
      "Requirement already satisfied: wsproto>=0.14 in c:\\users\\dan\\appdata\\roaming\\python\\python312\\site-packages (from trio-websocket~=0.9->selenium) (1.2.0)\n",
      "Requirement already satisfied: pysocks!=1.5.7,<2.0,>=1.5.6 in c:\\programdata\\anaconda3\\lib\\site-packages (from urllib3[socks]<3,>=1.26->selenium) (1.7.1)\n",
      "Requirement already satisfied: pycparser in c:\\programdata\\anaconda3\\lib\\site-packages (from cffi>=1.14->trio~=0.17->selenium) (2.21)\n",
      "Requirement already satisfied: h11<1,>=0.9.0 in c:\\programdata\\anaconda3\\lib\\site-packages (from wsproto>=0.14->trio-websocket~=0.9->selenium) (0.14.0)\n"
     ]
    }
   ],
   "source": [
    "!pip install selenium"
   ]
  },
  {
   "cell_type": "code",
   "execution_count": 2,
   "metadata": {},
   "outputs": [
    {
     "name": "stdout",
     "output_type": "stream",
     "text": [
      "Defaulting to user installation because normal site-packages is not writeable\n",
      "Requirement already satisfied: webdriver-manager in c:\\users\\dan\\appdata\\roaming\\python\\python312\\site-packages (4.0.2)\n",
      "Requirement already satisfied: requests in c:\\users\\dan\\appdata\\roaming\\python\\python312\\site-packages (from webdriver-manager) (2.30.0)\n",
      "Requirement already satisfied: python-dotenv in c:\\programdata\\anaconda3\\lib\\site-packages (from webdriver-manager) (0.21.0)\n",
      "Requirement already satisfied: packaging in c:\\programdata\\anaconda3\\lib\\site-packages (from webdriver-manager) (24.1)\n",
      "Requirement already satisfied: charset-normalizer<4,>=2 in c:\\programdata\\anaconda3\\lib\\site-packages (from requests->webdriver-manager) (3.3.2)\n",
      "Requirement already satisfied: idna<4,>=2.5 in c:\\programdata\\anaconda3\\lib\\site-packages (from requests->webdriver-manager) (3.7)\n",
      "Requirement already satisfied: urllib3<3,>=1.21.1 in c:\\programdata\\anaconda3\\lib\\site-packages (from requests->webdriver-manager) (2.2.3)\n",
      "Requirement already satisfied: certifi>=2017.4.17 in c:\\programdata\\anaconda3\\lib\\site-packages (from requests->webdriver-manager) (2024.8.30)\n"
     ]
    }
   ],
   "source": [
    "!pip install webdriver-manager"
   ]
  },
  {
   "cell_type": "code",
   "execution_count": 3,
   "metadata": {},
   "outputs": [
    {
     "name": "stdout",
     "output_type": "stream",
     "text": [
      "Defaulting to user installation because normal site-packages is not writeable\n",
      "Requirement already satisfied: requests in c:\\users\\dan\\appdata\\roaming\\python\\python312\\site-packages (2.30.0)\n",
      "Requirement already satisfied: charset-normalizer<4,>=2 in c:\\programdata\\anaconda3\\lib\\site-packages (from requests) (3.3.2)\n",
      "Requirement already satisfied: idna<4,>=2.5 in c:\\programdata\\anaconda3\\lib\\site-packages (from requests) (3.7)\n",
      "Requirement already satisfied: urllib3<3,>=1.21.1 in c:\\programdata\\anaconda3\\lib\\site-packages (from requests) (2.2.3)\n",
      "Requirement already satisfied: certifi>=2017.4.17 in c:\\programdata\\anaconda3\\lib\\site-packages (from requests) (2024.8.30)\n"
     ]
    }
   ],
   "source": [
    "!pip install requests"
   ]
  },
  {
   "cell_type": "code",
   "execution_count": 4,
   "metadata": {},
   "outputs": [
    {
     "name": "stdout",
     "output_type": "stream",
     "text": [
      "Defaulting to user installation because normal site-packages is not writeable\n",
      "Requirement already satisfied: amazoncaptcha in c:\\users\\dan\\appdata\\roaming\\python\\python312\\site-packages (0.5.11)\n",
      "Requirement already satisfied: pillow<9.6.0,>=9.0.1 in c:\\users\\dan\\appdata\\roaming\\python\\python312\\site-packages (from amazoncaptcha) (9.5.0)\n",
      "Requirement already satisfied: requests<2.31.0,>=2.27.1 in c:\\users\\dan\\appdata\\roaming\\python\\python312\\site-packages (from amazoncaptcha) (2.30.0)\n",
      "Requirement already satisfied: charset-normalizer<4,>=2 in c:\\programdata\\anaconda3\\lib\\site-packages (from requests<2.31.0,>=2.27.1->amazoncaptcha) (3.3.2)\n",
      "Requirement already satisfied: idna<4,>=2.5 in c:\\programdata\\anaconda3\\lib\\site-packages (from requests<2.31.0,>=2.27.1->amazoncaptcha) (3.7)\n",
      "Requirement already satisfied: urllib3<3,>=1.21.1 in c:\\programdata\\anaconda3\\lib\\site-packages (from requests<2.31.0,>=2.27.1->amazoncaptcha) (2.2.3)\n",
      "Requirement already satisfied: certifi>=2017.4.17 in c:\\programdata\\anaconda3\\lib\\site-packages (from requests<2.31.0,>=2.27.1->amazoncaptcha) (2024.8.30)\n"
     ]
    }
   ],
   "source": [
    "!pip install amazoncaptcha"
   ]
  },
  {
   "cell_type": "code",
   "execution_count": 3,
   "metadata": {},
   "outputs": [],
   "source": [
    "import pandas as pd \n",
    "import numpy as np \n",
    "import requests\n",
    "import sys\n",
    "import csv\n",
    "import time\n",
    "from selenium import webdriver\n",
    "from selenium.webdriver.chrome.service import Service\n",
    "from selenium.webdriver.common.by import By\n",
    "from selenium.webdriver.chrome.options import Options\n",
    "from bs4 import BeautifulSoup\n",
    "from selenium.webdriver.common.action_chains import ActionChains\n",
    "from selenium.webdriver.common.keys import Keys\n",
    "from amazoncaptcha import AmazonCaptcha\n",
    "import logging"
   ]
  },
  {
   "cell_type": "code",
   "execution_count": 4,
   "metadata": {},
   "outputs": [],
   "source": [
    "logging.basicConfig(level=logging.INFO, filename=\"scraping_log.log\",filemode=\"w\",\n",
    "                    format=\"%(asctime)s %(levelname)s %(message)s\")"
   ]
  },
  {
   "cell_type": "code",
   "execution_count": 5,
   "metadata": {},
   "outputs": [
    {
     "data": {
      "text/plain": [
       "\"\\nwith open('scraping_log.log', 'w'):\\n    pass # Clearing logs\\n\""
      ]
     },
     "execution_count": 5,
     "metadata": {},
     "output_type": "execute_result"
    }
   ],
   "source": [
    "'''\n",
    "with open('scraping_log.log', 'w'):\n",
    "    pass # Clearing logs\n",
    "'''"
   ]
  },
  {
   "cell_type": "code",
   "execution_count": 6,
   "metadata": {},
   "outputs": [],
   "source": [
    "chrome_options = Options()\n",
    "chrome_options.add_argument(\"--headless\")  # Запуск в фоновом режиме (без открытия браузера)"
   ]
  },
  {
   "cell_type": "code",
   "execution_count": 7,
   "metadata": {},
   "outputs": [],
   "source": [
    "driver = webdriver.Chrome() # options=chrome_options\n",
    "\n",
    "url = 'https://www.amazon.com/'\n",
    "\n",
    "driver.get(url)\n",
    "time.sleep(3)\n",
    "logging.info(\"Amazon opened for getting categories\")\n",
    "# time.sleep(10) # Т.к. надо вручную пройти капчу (ну либо деньги платить за сервисы для ее автономного прохождения)"
   ]
  },
  {
   "cell_type": "code",
   "execution_count": 8,
   "metadata": {},
   "outputs": [],
   "source": [
    "def SolveCaptcha(driver):\n",
    "    try:\n",
    "        logging.warning(\"Captcha solving started\")\n",
    "        link = driver.find_element(By.XPATH, \"//div[@class = 'a-row a-text-center']//img\").get_attribute('src')\n",
    "    \n",
    "        captcha = AmazonCaptcha.fromlink(link)\n",
    "        \n",
    "        captcha_value = AmazonCaptcha.solve(captcha)\n",
    "        \n",
    "        clickable = driver.find_element(By.ID, 'captchacharacters')\n",
    "        ActionChains(driver) \\\n",
    "            .click(clickable) \\\n",
    "            .perform()\n",
    "        \n",
    "        time.sleep(1)\n",
    "        \n",
    "        ActionChains(driver)\\\n",
    "                .send_keys(captcha_value)\\\n",
    "                .perform()\n",
    "        \n",
    "        clickable = driver.find_element(By.XPATH, \"//button[@class = 'a-button-text']\")\n",
    "        ActionChains(driver) \\\n",
    "            .click(clickable) \\\n",
    "            .perform()\n",
    "        logging.info(\"Captcha solved\")\n",
    "    except Exception as e:\n",
    "        logging.error(f\"Error appeared while solving captcha\", exc_info=e)\n",
    "    return driver"
   ]
  },
  {
   "cell_type": "code",
   "execution_count": 9,
   "metadata": {},
   "outputs": [],
   "source": [
    "driver = SolveCaptcha(driver)"
   ]
  },
  {
   "cell_type": "code",
   "execution_count": 10,
   "metadata": {},
   "outputs": [],
   "source": [
    "def SetCountry(driver):\n",
    "    logging.info(\"Setting country started\")\n",
    "    clickable = driver.find_element(By.ID, 'nav-global-location-popover-link')\n",
    "    ActionChains(driver) \\\n",
    "        .click(clickable) \\\n",
    "        .perform()\n",
    "    \n",
    "    time.sleep(1)\n",
    "    \n",
    "    clickable = driver.find_element(By.ID, 'GLUXZipUpdateInput')\n",
    "    ActionChains(driver) \\\n",
    "        .click(clickable) \\\n",
    "        .perform()\n",
    "    \n",
    "    time.sleep(1)\n",
    "    \n",
    "    ActionChains(driver)\\\n",
    "            .send_keys(\"10001\")\\\n",
    "            .perform()\n",
    "    \n",
    "    time.sleep(1)\n",
    "    \n",
    "    clickable = driver.find_element(By.ID, 'GLUXZipUpdate')\n",
    "    ActionChains(driver) \\\n",
    "        .click(clickable) \\\n",
    "        .perform()\n",
    "    \n",
    "    time.sleep(1)\n",
    "    \n",
    "    ActionChains(driver).send_keys(Keys.ESCAPE).perform()\n",
    "    \n",
    "    time.sleep(2)\n",
    "    \n",
    "    logging.info(\"Setting country ended\")\n",
    "    return driver"
   ]
  },
  {
   "cell_type": "code",
   "execution_count": 11,
   "metadata": {},
   "outputs": [],
   "source": [
    "driver = SetCountry(driver)"
   ]
  },
  {
   "cell_type": "code",
   "execution_count": 12,
   "metadata": {},
   "outputs": [],
   "source": [
    "clickable = driver.find_element(By.ID, 'nav-hamburger-menu')\n",
    "ActionChains(driver) \\\n",
    "    .click(clickable) \\\n",
    "    .perform()\n",
    "\n",
    "time.sleep(2)"
   ]
  },
  {
   "cell_type": "code",
   "execution_count": 13,
   "metadata": {},
   "outputs": [],
   "source": [
    "html = driver.page_source\n",
    "\n",
    "soup = BeautifulSoup(html, 'html.parser')\n",
    "\n",
    "df = pd.DataFrame({'Category': [], 'Subcategory': [], 'Link': []})\n",
    "\n",
    "logging.info(\"Getting categories started\")\n",
    "for i in soup.find_all(\"ul\", {'class': \"hmenu hmenu-translateX-right\"}):\n",
    "    if int(i['data-menu-id']) > 11 and int(i['data-menu-id']) < 29:\n",
    "        categ = i.find_all('div')[1].text\n",
    "        if 'Whole Foods' in categ or 'Amazon' in categ or 'More to Explore' in categ:\n",
    "            continue\n",
    "        flag = False\n",
    "        for j in i.find_all('li'):\n",
    "            try:\n",
    "                if int(j.find('div')['aria-level']) == 6:\n",
    "                    if flag:\n",
    "                        break\n",
    "                    flag = True\n",
    "            except:\n",
    "                pass\n",
    "            try:\n",
    "                k = j.find('a')\n",
    "                if k.text != 'main menu' and 'Amazon' not in k.text:\n",
    "                    df.loc[len(df)] = [categ, k.text, url[0:-1] + k['href']]\n",
    "            except:\n",
    "                pass\n",
    "\n",
    "logging.info(\"Getting categories ended\")"
   ]
  },
  {
   "cell_type": "code",
   "execution_count": 14,
   "metadata": {},
   "outputs": [
    {
     "data": {
      "text/html": [
       "<div>\n",
       "<style scoped>\n",
       "    .dataframe tbody tr th:only-of-type {\n",
       "        vertical-align: middle;\n",
       "    }\n",
       "\n",
       "    .dataframe tbody tr th {\n",
       "        vertical-align: top;\n",
       "    }\n",
       "\n",
       "    .dataframe thead th {\n",
       "        text-align: right;\n",
       "    }\n",
       "</style>\n",
       "<table border=\"1\" class=\"dataframe\">\n",
       "  <thead>\n",
       "    <tr style=\"text-align: right;\">\n",
       "      <th></th>\n",
       "      <th>Category</th>\n",
       "      <th>Subcategory</th>\n",
       "      <th>Link</th>\n",
       "    </tr>\n",
       "  </thead>\n",
       "  <tbody>\n",
       "    <tr>\n",
       "      <th>0</th>\n",
       "      <td>Clothing, Shoes, Jewelry &amp; Watches</td>\n",
       "      <td>Women</td>\n",
       "      <td>https://www.amazon.com/gp/browse.html?node=714...</td>\n",
       "    </tr>\n",
       "    <tr>\n",
       "      <th>1</th>\n",
       "      <td>Clothing, Shoes, Jewelry &amp; Watches</td>\n",
       "      <td>Men</td>\n",
       "      <td>https://www.amazon.com/gp/browse.html?node=714...</td>\n",
       "    </tr>\n",
       "    <tr>\n",
       "      <th>2</th>\n",
       "      <td>Clothing, Shoes, Jewelry &amp; Watches</td>\n",
       "      <td>Girls</td>\n",
       "      <td>https://www.amazon.com/gp/browse.html?node=714...</td>\n",
       "    </tr>\n",
       "    <tr>\n",
       "      <th>3</th>\n",
       "      <td>Clothing, Shoes, Jewelry &amp; Watches</td>\n",
       "      <td>Boys</td>\n",
       "      <td>https://www.amazon.com/gp/browse.html?node=714...</td>\n",
       "    </tr>\n",
       "    <tr>\n",
       "      <th>4</th>\n",
       "      <td>Clothing, Shoes, Jewelry &amp; Watches</td>\n",
       "      <td>Baby</td>\n",
       "      <td>https://www.amazon.com/gp/browse.html?node=714...</td>\n",
       "    </tr>\n",
       "    <tr>\n",
       "      <th>5</th>\n",
       "      <td>Clothing, Shoes, Jewelry &amp; Watches</td>\n",
       "      <td>Luggage</td>\n",
       "      <td>https://www.amazon.com/gp/browse.html?node=947...</td>\n",
       "    </tr>\n",
       "    <tr>\n",
       "      <th>6</th>\n",
       "      <td>Clothing, Shoes, Jewelry &amp; Watches</td>\n",
       "      <td>Luxury Stores</td>\n",
       "      <td>https://www.amazon.com/luxurystores?ref_=nav_e...</td>\n",
       "    </tr>\n",
       "    <tr>\n",
       "      <th>7</th>\n",
       "      <td>Clothing, Shoes, Jewelry &amp; Watches</td>\n",
       "      <td>The Drop</td>\n",
       "      <td>https://www.amazon.comhttps://www.amazon.com/t...</td>\n",
       "    </tr>\n",
       "    <tr>\n",
       "      <th>8</th>\n",
       "      <td>Clothing, Shoes, Jewelry &amp; Watches</td>\n",
       "      <td>Sales &amp; Deals</td>\n",
       "      <td>https://www.amazon.com/gp/browse.html?node=953...</td>\n",
       "    </tr>\n",
       "    <tr>\n",
       "      <th>9</th>\n",
       "      <td>Books</td>\n",
       "      <td>Books</td>\n",
       "      <td>https://www.amazon.com/gp/browse.html?node=283...</td>\n",
       "    </tr>\n",
       "    <tr>\n",
       "      <th>10</th>\n",
       "      <td>Books</td>\n",
       "      <td>Children's Books</td>\n",
       "      <td>https://www.amazon.com/gp/browse.html?node=4&amp;r...</td>\n",
       "    </tr>\n",
       "    <tr>\n",
       "      <th>11</th>\n",
       "      <td>Books</td>\n",
       "      <td>Textbooks</td>\n",
       "      <td>https://www.amazon.com/gp/browse.html?node=465...</td>\n",
       "    </tr>\n",
       "    <tr>\n",
       "      <th>12</th>\n",
       "      <td>Movies, Music &amp; Games</td>\n",
       "      <td>Movies &amp; TV</td>\n",
       "      <td>https://www.amazon.com/gp/browse.html?node=262...</td>\n",
       "    </tr>\n",
       "    <tr>\n",
       "      <th>13</th>\n",
       "      <td>Movies, Music &amp; Games</td>\n",
       "      <td>Blu-ray</td>\n",
       "      <td>https://www.amazon.com/gp/browse.html?node=290...</td>\n",
       "    </tr>\n",
       "    <tr>\n",
       "      <th>14</th>\n",
       "      <td>Movies, Music &amp; Games</td>\n",
       "      <td>Prime Video - Included with Prime</td>\n",
       "      <td>https://www.amazon.com/gp/browse.html?node=285...</td>\n",
       "    </tr>\n",
       "    <tr>\n",
       "      <th>15</th>\n",
       "      <td>Movies, Music &amp; Games</td>\n",
       "      <td>CDs &amp; Vinyl</td>\n",
       "      <td>https://www.amazon.com/gp/browse.html?node=517...</td>\n",
       "    </tr>\n",
       "    <tr>\n",
       "      <th>16</th>\n",
       "      <td>Movies, Music &amp; Games</td>\n",
       "      <td>Digital Music</td>\n",
       "      <td>https://www.amazon.com/gp/browse.html?node=163...</td>\n",
       "    </tr>\n",
       "    <tr>\n",
       "      <th>17</th>\n",
       "      <td>Movies, Music &amp; Games</td>\n",
       "      <td>Musical Instruments</td>\n",
       "      <td>https://www.amazon.com/gp/browse.html?node=110...</td>\n",
       "    </tr>\n",
       "    <tr>\n",
       "      <th>18</th>\n",
       "      <td>Movies, Music &amp; Games</td>\n",
       "      <td>Headphones</td>\n",
       "      <td>https://www.amazon.com/gp/browse.html?node=172...</td>\n",
       "    </tr>\n",
       "    <tr>\n",
       "      <th>19</th>\n",
       "      <td>Movies, Music &amp; Games</td>\n",
       "      <td>Video Games</td>\n",
       "      <td>https://www.amazon.com/gp/browse.html?node=468...</td>\n",
       "    </tr>\n",
       "  </tbody>\n",
       "</table>\n",
       "</div>"
      ],
      "text/plain": [
       "                              Category                        Subcategory  \\\n",
       "0   Clothing, Shoes, Jewelry & Watches                              Women   \n",
       "1   Clothing, Shoes, Jewelry & Watches                                Men   \n",
       "2   Clothing, Shoes, Jewelry & Watches                              Girls   \n",
       "3   Clothing, Shoes, Jewelry & Watches                               Boys   \n",
       "4   Clothing, Shoes, Jewelry & Watches                               Baby   \n",
       "5   Clothing, Shoes, Jewelry & Watches                            Luggage   \n",
       "6   Clothing, Shoes, Jewelry & Watches                      Luxury Stores   \n",
       "7   Clothing, Shoes, Jewelry & Watches                           The Drop   \n",
       "8   Clothing, Shoes, Jewelry & Watches                      Sales & Deals   \n",
       "9                                Books                              Books   \n",
       "10                               Books                   Children's Books   \n",
       "11                               Books                          Textbooks   \n",
       "12               Movies, Music & Games                        Movies & TV   \n",
       "13               Movies, Music & Games                            Blu-ray   \n",
       "14               Movies, Music & Games  Prime Video - Included with Prime   \n",
       "15               Movies, Music & Games                        CDs & Vinyl   \n",
       "16               Movies, Music & Games                      Digital Music   \n",
       "17               Movies, Music & Games                Musical Instruments   \n",
       "18               Movies, Music & Games                         Headphones   \n",
       "19               Movies, Music & Games                        Video Games   \n",
       "\n",
       "                                                 Link  \n",
       "0   https://www.amazon.com/gp/browse.html?node=714...  \n",
       "1   https://www.amazon.com/gp/browse.html?node=714...  \n",
       "2   https://www.amazon.com/gp/browse.html?node=714...  \n",
       "3   https://www.amazon.com/gp/browse.html?node=714...  \n",
       "4   https://www.amazon.com/gp/browse.html?node=714...  \n",
       "5   https://www.amazon.com/gp/browse.html?node=947...  \n",
       "6   https://www.amazon.com/luxurystores?ref_=nav_e...  \n",
       "7   https://www.amazon.comhttps://www.amazon.com/t...  \n",
       "8   https://www.amazon.com/gp/browse.html?node=953...  \n",
       "9   https://www.amazon.com/gp/browse.html?node=283...  \n",
       "10  https://www.amazon.com/gp/browse.html?node=4&r...  \n",
       "11  https://www.amazon.com/gp/browse.html?node=465...  \n",
       "12  https://www.amazon.com/gp/browse.html?node=262...  \n",
       "13  https://www.amazon.com/gp/browse.html?node=290...  \n",
       "14  https://www.amazon.com/gp/browse.html?node=285...  \n",
       "15  https://www.amazon.com/gp/browse.html?node=517...  \n",
       "16  https://www.amazon.com/gp/browse.html?node=163...  \n",
       "17  https://www.amazon.com/gp/browse.html?node=110...  \n",
       "18  https://www.amazon.com/gp/browse.html?node=172...  \n",
       "19  https://www.amazon.com/gp/browse.html?node=468...  "
      ]
     },
     "execution_count": 14,
     "metadata": {},
     "output_type": "execute_result"
    }
   ],
   "source": [
    "df.head(20)"
   ]
  },
  {
   "cell_type": "code",
   "execution_count": 15,
   "metadata": {},
   "outputs": [
    {
     "data": {
      "text/plain": [
       "(138, 3)"
      ]
     },
     "execution_count": 15,
     "metadata": {},
     "output_type": "execute_result"
    }
   ],
   "source": [
    "df.shape"
   ]
  },
  {
   "cell_type": "code",
   "execution_count": 16,
   "metadata": {},
   "outputs": [],
   "source": [
    "driver.quit()"
   ]
  },
  {
   "cell_type": "code",
   "execution_count": 17,
   "metadata": {},
   "outputs": [
    {
     "data": {
      "text/plain": [
       "\"\\ndf.to_csv('Categories_&_links.csv')\\n\""
      ]
     },
     "execution_count": 17,
     "metadata": {},
     "output_type": "execute_result"
    }
   ],
   "source": [
    "'''\n",
    "df.to_csv('Categories_&_links.csv')\n",
    "'''"
   ]
  },
  {
   "cell_type": "markdown",
   "metadata": {},
   "source": [
    "# Выбрали книги"
   ]
  },
  {
   "cell_type": "code",
   "execution_count": 18,
   "metadata": {},
   "outputs": [
    {
     "data": {
      "text/html": [
       "<div>\n",
       "<style scoped>\n",
       "    .dataframe tbody tr th:only-of-type {\n",
       "        vertical-align: middle;\n",
       "    }\n",
       "\n",
       "    .dataframe tbody tr th {\n",
       "        vertical-align: top;\n",
       "    }\n",
       "\n",
       "    .dataframe thead th {\n",
       "        text-align: right;\n",
       "    }\n",
       "</style>\n",
       "<table border=\"1\" class=\"dataframe\">\n",
       "  <thead>\n",
       "    <tr style=\"text-align: right;\">\n",
       "      <th></th>\n",
       "      <th>Category</th>\n",
       "      <th>Subcategory</th>\n",
       "      <th>Link</th>\n",
       "    </tr>\n",
       "  </thead>\n",
       "  <tbody>\n",
       "    <tr>\n",
       "      <th>9</th>\n",
       "      <td>Books</td>\n",
       "      <td>Books</td>\n",
       "      <td>https://www.amazon.com/gp/browse.html?node=283...</td>\n",
       "    </tr>\n",
       "  </tbody>\n",
       "</table>\n",
       "</div>"
      ],
      "text/plain": [
       "  Category Subcategory                                               Link\n",
       "9    Books       Books  https://www.amazon.com/gp/browse.html?node=283..."
      ]
     },
     "execution_count": 18,
     "metadata": {},
     "output_type": "execute_result"
    }
   ],
   "source": [
    "df[(df['Subcategory'] == 'Books')]"
   ]
  },
  {
   "cell_type": "code",
   "execution_count": 19,
   "metadata": {},
   "outputs": [
    {
     "data": {
      "text/html": [
       "<div>\n",
       "<style scoped>\n",
       "    .dataframe tbody tr th:only-of-type {\n",
       "        vertical-align: middle;\n",
       "    }\n",
       "\n",
       "    .dataframe tbody tr th {\n",
       "        vertical-align: top;\n",
       "    }\n",
       "\n",
       "    .dataframe thead th {\n",
       "        text-align: right;\n",
       "    }\n",
       "</style>\n",
       "<table border=\"1\" class=\"dataframe\">\n",
       "  <thead>\n",
       "    <tr style=\"text-align: right;\">\n",
       "      <th></th>\n",
       "      <th>Category</th>\n",
       "      <th>Subcategory</th>\n",
       "      <th>Link</th>\n",
       "    </tr>\n",
       "  </thead>\n",
       "  <tbody>\n",
       "    <tr>\n",
       "      <th>10</th>\n",
       "      <td>Books</td>\n",
       "      <td>Children's Books</td>\n",
       "      <td>https://www.amazon.com/gp/browse.html?node=4&amp;r...</td>\n",
       "    </tr>\n",
       "  </tbody>\n",
       "</table>\n",
       "</div>"
      ],
      "text/plain": [
       "   Category       Subcategory  \\\n",
       "10    Books  Children's Books   \n",
       "\n",
       "                                                 Link  \n",
       "10  https://www.amazon.com/gp/browse.html?node=4&r...  "
      ]
     },
     "execution_count": 19,
     "metadata": {},
     "output_type": "execute_result"
    }
   ],
   "source": [
    "df[(df['Subcategory'] == \"Children's Books\")]"
   ]
  },
  {
   "cell_type": "code",
   "execution_count": 20,
   "metadata": {},
   "outputs": [],
   "source": [
    "data = pd.DataFrame({'Title': [], 'Price': [], 'Currency':[], 'Rating': [], 'Number of reviews': [], 'Original Price': [], 'Main Genre': []})"
   ]
  },
  {
   "cell_type": "code",
   "execution_count": 29,
   "metadata": {},
   "outputs": [],
   "source": [
    "def Start(c, category_name):\n",
    "    logging.info(\"Start() function started\")\n",
    "    driver = webdriver.Chrome() # options=chrome_options\n",
    "    flag = True\n",
    "    while flag:\n",
    "        try:\n",
    "            if len(driver.find_elements(By.XPATH, \"//div[@class = 'a-row a-text-center']//img\")) != 0:\n",
    "                driver = SolveCaptcha(driver)\n",
    "            url = df[(df['Subcategory'] == c)]['Link'].iloc[0]\n",
    "            \n",
    "            driver.get(url)\n",
    "            \n",
    "            time.sleep(2)\n",
    "            \n",
    "            SetCountry(driver)\n",
    "            driver.refresh()\n",
    "            time.sleep(5)\n",
    "            \n",
    "            clickable = driver.find_element(By.ID, 'twotabsearchtextbox')\n",
    "            \n",
    "            time.sleep(1)\n",
    "            \n",
    "            ActionChains(driver) \\\n",
    "                .click(clickable) \\\n",
    "                .perform()\n",
    "            \n",
    "            time.sleep(1) \n",
    "            \n",
    "            ActionChains(driver)\\\n",
    "                        .send_keys(category_name)\\\n",
    "                        .perform()\n",
    "                \n",
    "            time.sleep(1)\n",
    "            \n",
    "            clickable = driver.find_element(By.ID, 'nav-search-submit-button')\n",
    "            ActionChains(driver) \\\n",
    "                .click(clickable) \\\n",
    "                .perform()\n",
    "            flag = False\n",
    "        except Exception as e:\n",
    "            logging.error(f\"Error appeared while starting driver for {category_name}\", exc_info=e)\n",
    "            break\n",
    "    logging.info(\"Start() function ended\")\n",
    "    return driver"
   ]
  },
  {
   "cell_type": "markdown",
   "metadata": {},
   "source": [
    "## Children's books"
   ]
  },
  {
   "cell_type": "code",
   "execution_count": 31,
   "metadata": {},
   "outputs": [],
   "source": [
    "driver = Start(\"Children's Books\", \"Children's book\")"
   ]
  },
  {
   "cell_type": "code",
   "execution_count": 32,
   "metadata": {},
   "outputs": [],
   "source": [
    "logging.info(f\"Scraping for {\"Children's Books\"} started\")\n",
    "for j in range(60):\n",
    "    a = True\n",
    "    flag = True\n",
    "    while flag:\n",
    "        try:\n",
    "            if len(driver.find_elements(By.XPATH, \"//div[@class = 'a-row a-text-center']//img\")) != 0:\n",
    "                driver = SolveCaptcha(driver)\n",
    "            html = driver.page_source\n",
    "            soup = BeautifulSoup(html, 'html.parser')\n",
    "            for i in soup.find_all('div', {'class': 'a-section a-spacing-small puis-padding-left-small puis-padding-right-small'}):\n",
    "                title = i.find('h2', {'class': 'a-size-base-plus a-spacing-none a-color-base a-text-normal'}).find('span').text\n",
    "                try:\n",
    "                    price = i.find('span', {'class': 'a-price'}).find('span', {'class': 'a-offscreen'}).text\n",
    "                    currency = price[0]\n",
    "                    price = float(price[1::])\n",
    "                except:\n",
    "                    price = np.nan\n",
    "                    currency = np.nan\n",
    "                    price = np.nan\n",
    "                    \n",
    "                try:\n",
    "                    rating = float(i.find('a', {'class': 'a-popover-trigger a-declarative'}).get('aria-label').split()[0])\n",
    "                    num_of_rev = int(i.find('div', {'class': 's-csa-instrumentation-wrapper alf-search-csa-instrumentation-wrapper'}).find('a', {'class': 'a-link-normal s-underline-text s-underline-link-text s-link-style'}).get('aria-label').split()[0].replace(',', ''))\n",
    "                except:\n",
    "                    rating = np.nan\n",
    "                    num_of_rev = np.nan\n",
    "                if price == 0:\n",
    "                    try:\n",
    "                        price = i.find('div', {'class': 'a-section a-spacing-none a-spacing-top-mini'}).find('div', {'class': 'a-row a-size-base a-color-secondary'}).find('span').split()[1]\n",
    "                        currency = price[0]\n",
    "                        price = float(price[1::])\n",
    "                    except:\n",
    "                        price = 0     \n",
    "                \n",
    "                try:\n",
    "                    orig_price = float(i.find('span', {'class': 'a-price a-text-price'}).find('span', {'class': 'a-offscreen'}).text[1::])\n",
    "                except:\n",
    "                    orig_price = price\n",
    "                data.loc[len(data)] = [title, price, currency, rating, num_of_rev, orig_price, \"Children's Books\"]\n",
    "        \n",
    "            clickable = driver.find_elements(By.CLASS_NAME, 's-list-item-margin-right-adjustment')[-1]\n",
    "            ActionChains(driver) \\\n",
    "                .click(clickable) \\\n",
    "                .perform()\n",
    "            \n",
    "            logging.info(f\"Scraping page {j} for {\"Children's Books\"} ended\")\n",
    "            \n",
    "            time.sleep(3)\n",
    "            flag = True\n",
    "        except Exception as e:\n",
    "            a = False\n",
    "            logging.error(f\"Error appeared while scraping page {j} for {\"Children's Books\"}\", exc_info=e)\n",
    "            break\n",
    "    if not a:\n",
    "        break\n",
    "            "
   ]
  },
  {
   "cell_type": "code",
   "execution_count": 26,
   "metadata": {},
   "outputs": [
    {
     "data": {
      "text/html": [
       "<div>\n",
       "<style scoped>\n",
       "    .dataframe tbody tr th:only-of-type {\n",
       "        vertical-align: middle;\n",
       "    }\n",
       "\n",
       "    .dataframe tbody tr th {\n",
       "        vertical-align: top;\n",
       "    }\n",
       "\n",
       "    .dataframe thead th {\n",
       "        text-align: right;\n",
       "    }\n",
       "</style>\n",
       "<table border=\"1\" class=\"dataframe\">\n",
       "  <thead>\n",
       "    <tr style=\"text-align: right;\">\n",
       "      <th></th>\n",
       "      <th>Title</th>\n",
       "      <th>Price</th>\n",
       "      <th>Currency</th>\n",
       "      <th>Rating</th>\n",
       "      <th>Number of reviews</th>\n",
       "      <th>Original Price</th>\n",
       "      <th>Main Genre</th>\n",
       "    </tr>\n",
       "  </thead>\n",
       "  <tbody>\n",
       "    <tr>\n",
       "      <th>0</th>\n",
       "      <td>The Promise: A Cody and Summer tale</td>\n",
       "      <td>14.39</td>\n",
       "      <td>$</td>\n",
       "      <td>4.9</td>\n",
       "      <td>334.0</td>\n",
       "      <td>15.99</td>\n",
       "      <td>Children's Books</td>\n",
       "    </tr>\n",
       "    <tr>\n",
       "      <th>1</th>\n",
       "      <td>Cozy Critters on the Ark (Cozy Critters Storyt...</td>\n",
       "      <td>14.99</td>\n",
       "      <td>$</td>\n",
       "      <td>4.7</td>\n",
       "      <td>98.0</td>\n",
       "      <td>14.99</td>\n",
       "      <td>Children's Books</td>\n",
       "    </tr>\n",
       "    <tr>\n",
       "      <th>2</th>\n",
       "      <td>Unicorns on Vacation: A story among dreams,fri...</td>\n",
       "      <td>13.99</td>\n",
       "      <td>$</td>\n",
       "      <td>NaN</td>\n",
       "      <td>NaN</td>\n",
       "      <td>13.99</td>\n",
       "      <td>Children's Books</td>\n",
       "    </tr>\n",
       "    <tr>\n",
       "      <th>3</th>\n",
       "      <td>The Rainbow Fish</td>\n",
       "      <td>5.04</td>\n",
       "      <td>$</td>\n",
       "      <td>4.8</td>\n",
       "      <td>6802.0</td>\n",
       "      <td>9.95</td>\n",
       "      <td>Children's Books</td>\n",
       "    </tr>\n",
       "    <tr>\n",
       "      <th>4</th>\n",
       "      <td>I Love You to the Moon and Back</td>\n",
       "      <td>4.92</td>\n",
       "      <td>$</td>\n",
       "      <td>4.9</td>\n",
       "      <td>77331.0</td>\n",
       "      <td>7.99</td>\n",
       "      <td>Children's Books</td>\n",
       "    </tr>\n",
       "    <tr>\n",
       "      <th>...</th>\n",
       "      <td>...</td>\n",
       "      <td>...</td>\n",
       "      <td>...</td>\n",
       "      <td>...</td>\n",
       "      <td>...</td>\n",
       "      <td>...</td>\n",
       "      <td>...</td>\n",
       "    </tr>\n",
       "    <tr>\n",
       "      <th>71</th>\n",
       "      <td>Where's Spot?</td>\n",
       "      <td>4.25</td>\n",
       "      <td>$</td>\n",
       "      <td>4.8</td>\n",
       "      <td>34840.0</td>\n",
       "      <td>7.99</td>\n",
       "      <td>Children's Books</td>\n",
       "    </tr>\n",
       "    <tr>\n",
       "      <th>72</th>\n",
       "      <td>You're My Little Cuddle Bug</td>\n",
       "      <td>5.08</td>\n",
       "      <td>$</td>\n",
       "      <td>4.9</td>\n",
       "      <td>8437.0</td>\n",
       "      <td>8.99</td>\n",
       "      <td>Children's Books</td>\n",
       "    </tr>\n",
       "    <tr>\n",
       "      <th>73</th>\n",
       "      <td>Funkelnde Träume und magische Wesen: Einhorngl...</td>\n",
       "      <td>14.60</td>\n",
       "      <td>$</td>\n",
       "      <td>NaN</td>\n",
       "      <td>NaN</td>\n",
       "      <td>14.60</td>\n",
       "      <td>Children's Books</td>\n",
       "    </tr>\n",
       "    <tr>\n",
       "      <th>74</th>\n",
       "      <td>Ode to a Pug</td>\n",
       "      <td>14.89</td>\n",
       "      <td>$</td>\n",
       "      <td>4.6</td>\n",
       "      <td>11.0</td>\n",
       "      <td>14.89</td>\n",
       "      <td>Children's Books</td>\n",
       "    </tr>\n",
       "    <tr>\n",
       "      <th>75</th>\n",
       "      <td>The Colorless Sara Short</td>\n",
       "      <td>11.16</td>\n",
       "      <td>$</td>\n",
       "      <td>4.6</td>\n",
       "      <td>59.0</td>\n",
       "      <td>11.99</td>\n",
       "      <td>Children's Books</td>\n",
       "    </tr>\n",
       "  </tbody>\n",
       "</table>\n",
       "<p>76 rows × 7 columns</p>\n",
       "</div>"
      ],
      "text/plain": [
       "                                                Title  Price Currency  Rating  \\\n",
       "0                 The Promise: A Cody and Summer tale  14.39        $     4.9   \n",
       "1   Cozy Critters on the Ark (Cozy Critters Storyt...  14.99        $     4.7   \n",
       "2   Unicorns on Vacation: A story among dreams,fri...  13.99        $     NaN   \n",
       "3                                    The Rainbow Fish   5.04        $     4.8   \n",
       "4                     I Love You to the Moon and Back   4.92        $     4.9   \n",
       "..                                                ...    ...      ...     ...   \n",
       "71                                      Where's Spot?   4.25        $     4.8   \n",
       "72                        You're My Little Cuddle Bug   5.08        $     4.9   \n",
       "73  Funkelnde Träume und magische Wesen: Einhorngl...  14.60        $     NaN   \n",
       "74                                       Ode to a Pug  14.89        $     4.6   \n",
       "75                           The Colorless Sara Short  11.16        $     4.6   \n",
       "\n",
       "    Number of reviews  Original Price        Main Genre  \n",
       "0               334.0           15.99  Children's Books  \n",
       "1                98.0           14.99  Children's Books  \n",
       "2                 NaN           13.99  Children's Books  \n",
       "3              6802.0            9.95  Children's Books  \n",
       "4             77331.0            7.99  Children's Books  \n",
       "..                ...             ...               ...  \n",
       "71            34840.0            7.99  Children's Books  \n",
       "72             8437.0            8.99  Children's Books  \n",
       "73                NaN           14.60  Children's Books  \n",
       "74               11.0           14.89  Children's Books  \n",
       "75               59.0           11.99  Children's Books  \n",
       "\n",
       "[76 rows x 7 columns]"
      ]
     },
     "execution_count": 26,
     "metadata": {},
     "output_type": "execute_result"
    }
   ],
   "source": [
    "data"
   ]
  },
  {
   "cell_type": "code",
   "execution_count": 27,
   "metadata": {},
   "outputs": [],
   "source": [
    "driver.quit()"
   ]
  },
  {
   "cell_type": "code",
   "execution_count": 28,
   "metadata": {},
   "outputs": [],
   "source": [
    "def Scrape(n, driver, categ):\n",
    "    logging.info(f\"Scraping for {categ} started\")\n",
    "    for j in range(n):\n",
    "        a = True\n",
    "        flag = True\n",
    "        while flag:\n",
    "            try:\n",
    "                if len(driver.find_elements(By.XPATH, \"//div[@class = 'a-row a-text-center']//img\")) != 0:\n",
    "                    driver = SolveCaptcha(driver)\n",
    "                html = driver.page_source\n",
    "                soup = BeautifulSoup(html, 'html.parser')\n",
    "                for i in soup.find_all('div', {'class': 'a-section a-spacing-small a-spacing-top-small'}):\n",
    "                    title = i.find('h2', {'class': 'a-size-medium a-spacing-none a-color-base a-text-normal'}).find('span').text\n",
    "                    try:\n",
    "                        price = i.find('span', {'class': 'a-price'}).find('span', {'class': 'a-offscreen'}).text\n",
    "                        currency = price[0]\n",
    "                        price = float(price[1::])\n",
    "                    except:\n",
    "                        price = np.nan\n",
    "                        currency = np.nan\n",
    "                        price = np.nan\n",
    "                        \n",
    "                    try:\n",
    "                        rating = float(i.find('a', {'class': 'a-popover-trigger a-declarative'}).get('aria-label').split()[0])\n",
    "                        num_of_rev = int(i.find('div', {'class': 's-csa-instrumentation-wrapper alf-search-csa-instrumentation-wrapper'}).find('a', {'class': 'a-link-normal s-underline-text s-underline-link-text s-link-style'}).get('aria-label').split()[0].replace(',', ''))\n",
    "                    except:\n",
    "                        rating = np.nan\n",
    "                        num_of_rev = np.nan\n",
    "                    if price == 0:\n",
    "                        try:\n",
    "                            price = i.find('div', {'class': 'a-section a-spacing-none a-spacing-top-mini'}).find('div', {'class': 'a-row a-size-base a-color-secondary'}).find('span').split()[1]\n",
    "                            currency = price[0]\n",
    "                            price = float(price[1::])\n",
    "                        except:\n",
    "                            price = 0     \n",
    "                    \n",
    "                    try:\n",
    "                        orig_price = float(i.find('span', {'class': 'a-price a-text-price'}).find('span', {'class': 'a-offscreen'}).text[1::])\n",
    "                    except:\n",
    "                        orig_price = price\n",
    "                    data.loc[len(data)] = [title, price, currency, rating, num_of_rev, orig_price, categ]\n",
    "            \n",
    "                clickable = driver.find_elements(By.CLASS_NAME, 's-list-item-margin-right-adjustment')[-1]\n",
    "                ActionChains(driver) \\\n",
    "                    .click(clickable) \\\n",
    "                    .perform()\n",
    "                \n",
    "                time.sleep(3)\n",
    "                flag = False\n",
    "            except Exception as e:\n",
    "                a = False\n",
    "                logging.error(f\"Error appeared while scraping page {j} for {categ}\", exc_info=e)\n",
    "                break\n",
    "        if not a:\n",
    "            break\n",
    "        logging.info(f\"Scraping page {j} for {categ} ended\")\n",
    "    return driver"
   ]
  },
  {
   "cell_type": "code",
   "execution_count": 29,
   "metadata": {},
   "outputs": [],
   "source": [
    "fiction_categories = [\n",
    "    \"Comics & Manga\",\n",
    "    \"Literature & Fiction\",\n",
    "    \"Mystery, Thriller & Suspense\",\n",
    "    \"Romance\",\n",
    "    \"Science Fiction & Fantasy\",\n",
    "    \"Teen & Young Adult\"\n",
    "]\n",
    "\n",
    "nonfiction_categories = [\n",
    "    \"Arts & Photography\",\n",
    "    \"Biographies & Memoirs\",\n",
    "    \"Business & Money\",\n",
    "    \"Calendars\",\n",
    "    \"Computers & Technology\",\n",
    "    \"Cookbooks, Food & Wine\",\n",
    "    \"Crafts, Hobbies & Home\",\n",
    "    \"Education & Teaching\",\n",
    "    \"Engineering & Transportation\",\n",
    "    \"Health, Fitness & Dieting\",\n",
    "    \"History\",\n",
    "    \"Humor & Entertainment\",\n",
    "    \"Law\",\n",
    "    \"Medical Books\",\n",
    "    \"Parenting & Relationships\",\n",
    "    \"Politics & Social Sciences\",\n",
    "    \"Reference\",\n",
    "    \"Religion & Spirituality\",\n",
    "    \"Science & Math\",\n",
    "    \"Self-help\",\n",
    "    \"Sports & Outdoors\",\n",
    "    \"Travel\"\n",
    "]"
   ]
  },
  {
   "cell_type": "code",
   "execution_count": 30,
   "metadata": {},
   "outputs": [
    {
     "name": "stderr",
     "output_type": "stream",
     "text": [
      "\n",
      "KeyboardInterrupt\n",
      "\n"
     ]
    }
   ],
   "source": [
    "for categ in (fiction_categories + nonfiction_categories):\n",
    "    driver = Start(\"Books\", categ)\n",
    "    driver = Scrape(50, driver, categ)\n",
    "    driver.quit()\n",
    "    data.to_csv('All_added_books_data_temp.csv')\n",
    "    logging.info(f\"Data for {categ} category added to All_added_books_data_temp.csv\")"
   ]
  },
  {
   "cell_type": "code",
   "execution_count": null,
   "metadata": {},
   "outputs": [],
   "source": [
    "data"
   ]
  },
  {
   "cell_type": "code",
   "execution_count": null,
   "metadata": {},
   "outputs": [],
   "source": [
    "data.to_csv('All_added_books_data.csv')\n",
    "logging.info(f\"Final data file compiled\")"
   ]
  },
  {
   "cell_type": "code",
   "execution_count": null,
   "metadata": {},
   "outputs": [],
   "source": [
    "data.drop_duplicates()"
   ]
  }
 ],
 "metadata": {
  "colab": {
   "provenance": []
  },
  "kernelspec": {
   "display_name": "Python 3 (ipykernel)",
   "language": "python",
   "name": "python3"
  },
  "language_info": {
   "codemirror_mode": {
    "name": "ipython",
    "version": 3
   },
   "file_extension": ".py",
   "mimetype": "text/x-python",
   "name": "python",
   "nbconvert_exporter": "python",
   "pygments_lexer": "ipython3",
   "version": "3.12.7"
  }
 },
 "nbformat": 4,
 "nbformat_minor": 4
}
