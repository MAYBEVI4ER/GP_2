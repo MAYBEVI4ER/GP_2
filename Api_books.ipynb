{
 "cells": [
  {
   "cell_type": "code",
   "execution_count": 7,
   "metadata": {
    "id": "o2jEyh8LjEAf"
   },
   "outputs": [],
   "source": [
    "import requests\n",
    "import json\n",
    "import pandas as pd\n",
    "import time\n",
    "from config import API_key\n",
    "import logging"
   ]
  },
  {
   "cell_type": "code",
   "execution_count": 8,
   "metadata": {},
   "outputs": [],
   "source": [
    "logging.basicConfig(level=logging.INFO, filename=\"API_google_log.log\",filemode=\"w\",\n",
    "                    format=\"%(asctime)s %(levelname)s %(message)s\")"
   ]
  },
  {
   "cell_type": "code",
   "execution_count": 9,
   "metadata": {},
   "outputs": [
    {
     "data": {
      "text/plain": [
       "\"\\nwith open('scraping_log.log', 'w'):\\n    pass # Clearing logs\\n\""
      ]
     },
     "execution_count": 9,
     "metadata": {},
     "output_type": "execute_result"
    }
   ],
   "source": [
    "'''\n",
    "with open('scraping_log.log', 'w'):\n",
    "    pass # Clearing logs\n",
    "'''"
   ]
  },
  {
   "cell_type": "code",
   "execution_count": 10,
   "metadata": {
    "id": "4t2O5kgPxu02"
   },
   "outputs": [],
   "source": [
    "all_books = pd.read_csv(\"All_added_books_data.csv\")"
   ]
  },
  {
   "cell_type": "code",
   "execution_count": null,
   "metadata": {},
   "outputs": [],
   "source": [
    "titles = all_books['Title'].dropna().tolist()\n",
    "\n",
    "base_url = \"https://www.googleapis.com/books/v1/volumes\"\n",
    "results = []\n",
    "\n",
    "for title in titles:\n",
    "    logging.info(f\"Started getting info about '{title}' title\")\n",
    "    search_query = title.replace(' ', '+')\n",
    "    url = f\"{base_url}?q=intitle:{search_query}\"\n",
    "    flag = True\n",
    "    while flag:\n",
    "      try:\n",
    "          response = requests.get(url, headers={'accept': 'application/json', 'X-API-KEY': API_key})\n",
    "          if response.status_code == 200:\n",
    "              logging.info(f\"Response 200 for '{title}' title\")\n",
    "              flag = False\n",
    "              response_data = response.json()\n",
    "\n",
    "              if 'items' in response_data and len(response_data['items']) > 0:\n",
    "                  logging.info(f\"Got data for '{title}' title\")\n",
    "                  first_result = response_data['items'][0]['volumeInfo']\n",
    "                  results.append({\n",
    "                      \"Title\": title,\n",
    "                      \"API Title\": first_result.get('title'),\n",
    "                      \"Authors\": first_result.get('authors', []),\n",
    "                      \"Publisher\": first_result.get('publisher'),\n",
    "                      \"Published Date\": first_result.get('publishedDate'),\n",
    "                      \"Description\": first_result.get('description'),\n",
    "                      \"Page Count\": first_result.get('pageCount'),\n",
    "                      \"Print Type\": first_result.get('printType'),\n",
    "                      \"Categories\": first_result.get('categories', []),\n",
    "                      \"Average Rating\": first_result.get('averageRating'),\n",
    "                      \"Ratings Count\": first_result.get('ratingsCount'),\n",
    "                      \"Language\": first_result.get('language'),\n",
    "                  })\n",
    "              else:\n",
    "                  logging.info(f\"No data for '{title}' title\")\n",
    "                  results.append({\n",
    "                      \"Title\": title,\n",
    "                      \"API Title\": None,\n",
    "                      \"Authors\": None,\n",
    "                      \"Publisher\": None,\n",
    "                      \"Published Date\": None,\n",
    "                      \"Description\": None,\n",
    "                      \"Page Count\": None,\n",
    "                      \"Print Type\": None,\n",
    "                      \"Categories\": None,\n",
    "                      \"Average Rating\": None,\n",
    "                      \"Ratings Count\": None,\n",
    "                      \"Language\": None,\n",
    "                  })\n",
    "          else:\n",
    "              logging.warning(f\"Error appeared while requesting data for '{title}' title: {response.status_code}\")\n",
    "              time.sleep(1)\n",
    "      except Exception as e:\n",
    "          logging.error(f\"Error appeared while requesting data for '{title}'\", exc_info=e)\n",
    "\n",
    "\n",
    "    time.sleep(0.2)"
   ]
  },
  {
   "cell_type": "code",
   "execution_count": null,
   "metadata": {
    "id": "Wc-Qb4Ebx2HI"
   },
   "outputs": [],
   "source": [
    "results_df = pd.DataFrame(results)\n",
    "results_df.to_csv(\"all_api_books.csv\", index=False)"
   ]
  },
  {
   "cell_type": "code",
   "execution_count": null,
   "metadata": {},
   "outputs": [],
   "source": []
  }
 ],
 "metadata": {
  "colab": {
   "provenance": []
  },
  "kernelspec": {
   "display_name": "Python 3 (ipykernel)",
   "language": "python",
   "name": "python3"
  },
  "language_info": {
   "codemirror_mode": {
    "name": "ipython",
    "version": 3
   },
   "file_extension": ".py",
   "mimetype": "text/x-python",
   "name": "python",
   "nbconvert_exporter": "python",
   "pygments_lexer": "ipython3",
   "version": "3.12.7"
  }
 },
 "nbformat": 4,
 "nbformat_minor": 4
}
