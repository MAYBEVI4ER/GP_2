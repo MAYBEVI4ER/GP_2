{
 "cells": [
  {
   "cell_type": "markdown",
   "metadata": {
    "id": "f1gL2DEfNRGu"
   },
   "source": [
    "# Современные методы анализа данных и машинного обучения, БИ\n",
    "\n",
    "## НИУ ВШЭ, 2024-25 учебный год"
   ]
  },
  {
   "cell_type": "markdown",
   "metadata": {
    "id": "fdTH3pxXFLxw"
   },
   "source": [
    "## Групповой проект №2. DE: Scraping & API"
   ]
  },
  {
   "cell_type": "markdown",
   "metadata": {
    "id": "kqVyveO4FLxx"
   },
   "source": [
    "## Общая информация"
   ]
  },
  {
   "cell_type": "markdown",
   "metadata": {
    "editable": true,
    "id": "2A0wmBWwFLxx",
    "slideshow": {
     "slide_type": ""
    },
    "tags": []
   },
   "source": [
    "__Дата выдачи:__ 21.02.2025\n",
    "\n",
    "__Защита проекта:__ 05.03.2025"
   ]
  },
  {
   "cell_type": "markdown",
   "metadata": {
    "id": "c3WPv6hp7hNJ"
   },
   "source": [
    "## Формат выполнения"
   ]
  },
  {
   "cell_type": "markdown",
   "metadata": {
    "id": "G119PlyX7hNS"
   },
   "source": [
    "Групповой проект представляет собой творческое инициативное групповое задание, которое выполняется студентами в командах от 3 до 6 человек. В то же время, следует помнить, что чем больше в команде людей, тем выше предъявляются требования в целом к команде, а также к выполняему ею проекту. Команды разрешается формировать из студентов разных групп.\n",
    "\n",
    "При оценивании результатов выполнения проекта командой, в обязательном порядке проверяется и учитывается в оценке вклад ***каждого участника*** в общую работу команды. Вследствие этого, крайне важно ответственно подойти к выбору сокомандников, распределению обязанностей внутри команды, а также пресечению наличия \"мертвых душ\" в команде.\n",
    "\n",
    "При необходимости, команда большинством голосов имеет право исключить человека из команды *до защиты проекта*, сообщив об этом преподавателю, в случае если такой человек никак не проявлялся в ходе выполнения проекта и являлся как раз таки той самой \"мертвой душой\". Помните про эту возможность, поскольку наличие \"мертвых душ\" может негативно повлиять на качество и оценку для всего проекта и, как следствие, в целом для всей команды!\n",
    "\n",
    "Запись составов команд осуществляется по ссылке в таблице:\n",
    "\n",
    "https://docs.google.com/spreadsheets/d/1aUFah0NgORUzjMoA6QxKt7OyVN5djf1Vvq3vB1bbx8k/edit?usp=sharing"
   ]
  },
  {
   "cell_type": "markdown",
   "metadata": {
    "id": "qK8Ari9eFLxz"
   },
   "source": [
    "## Оценивание и штрафы\n",
    "\n"
   ]
  },
  {
   "cell_type": "markdown",
   "metadata": {
    "editable": true,
    "id": "QGLPrtP8M51y",
    "slideshow": {
     "slide_type": ""
    },
    "tags": []
   },
   "source": [
    "Групповой проект оценивается исходя из устной защиты (презентации) командой выполненного ими проекта перед комиссией. Комиссия составляется из преподавателей курса, ассистентов курса, а также приглашенных экспертов из индустрии.\n",
    "\n",
    "В рамках каждой защиты комиссия выставляет два типа оценок.\n",
    "\n",
    "Первая оценка — это оценка для всего проекта в целом. Она ставится комиссией, исходя из глубины проработки командой предметной области, сложности применяемых в проекте инструментов, а также прочих аспектов, связанных с содержанием выполняемого в проекте ТЗ. При выставлении этой оценки комиссия ориентируется на критерии, более подробно представленные ниже в разделе \"Критерии оценки проекта\".\n",
    "\n",
    "Вторая оценка — это индивидуальная оценка каждого участника команды. Именно эта оценка выставляется впоследствии в ведомость. Индивидуальная оценка участника команды определяется комиссией, исходя из того, насколько участник ориентируется в выполненном командой проекте, как он отвечает на адресованные персонально ему вопросы комиссии, насколько в принципе прослеживается его роль в проекте, а также исходя из других аспектов, связанных с участием конкретного человека в деятельности команды. Индивидуальная оценка не может превосходить оценку команды за проект в целом (первую оценку), однако, в случае когда участник спокойно и корректно отвечает на все адресованные ему вопросы, свободно ориентируется в материале и содержании выполненного проекта, а также когда его роль в работе команды не вызывает сомнений, — в таком случае, индивидуальная оценка участника становится равной оценке для всего проекта (т.е. в идеальном случае — вторая оценка равна первой оценке). Кроме того, в исключительных случаях, при демонстрации участником на защите превосходящих ожидания уровней понимания, участия и вовлечения в рамках проекта, комиссия может своим решением повысить индивидуальную оценку для этого участника на 0,5 или 1 балл относительно общей оценки за проект (первой оценки).\n",
    "\n",
    "Во избежание субъективности и/или предвзятости оценки тех или иных членов комиссии в отношении тех или иных команд, а также каких-либо иных проявлений неравных условий — распределение команд между комиссиями осуществляется абсолютно рандомно с использованием средств библиотеки Numpy :)) — в качестве рэндом сида выступает дата, в которую производится распределение, например, `np.random.seed(21022025)`.\n",
    "\n",
    "Обратите, пожалуйста, внимание на то, что бОльшая часть комиссий осуществляет приём проектов в очной форме, однако могут присутствовать и 1-2 комиссии, которые будут работать дистанционно с использованием средств видеосвязи. В случае попадания команды путем случайного распределения в комиссию, работающую в очной форме, *не допускается* какое-либо изменение формата проведения для команды на онлайн-режим, равно как и любые другие перемещения команд между комиссиями (смены комиссий), для сохранения честности и непредвзятости случайного распределения.\n",
    "\n",
    "Явка студента на защиту проекта является обязательной; вклад студента без его присутствия не оценивается и автоматически является равным нулю. Для дистанционных комиссий, дополнительным требованием является обязательное наличие включенной камеры в течение всего времени нахождения в конференции"
   ]
  },
  {
   "cell_type": "markdown",
   "metadata": {
    "id": "zNja-u8vFLx0"
   },
   "source": [
    "## Описание задания"
   ]
  },
  {
   "cell_type": "markdown",
   "metadata": {
    "id": "JYeFv80TV21w"
   },
   "source": [
    "В современном мире данных эффективный сбор и интеграция информации из различных источников являются фундаментом для принятия обоснованных решений и успешного ведения бизнеса. Компании, стремясь к конкурентоспособности, активно используют технологии веб-скрапинга и взаимодействия с API для автоматизации процесса сбора данных, обеспечения их актуальности и полноты.\n",
    "\n",
    "В данном проекте вы на реальных данных попрактикуетесь в том, как осуществляется веб-скрапинг различных сайтов для извлечения необходимой информации, а также в работе с API популярных сервисов для получения структурированных данных. Вы научитесь применять современные инструменты и библиотеки, отражающие различные этапы DE, обрабатывать и очищать полученную информацию, а также интегрировать данные из различных источников для последующего использования их в аналитических и бизнес-задачах.\n",
    "\n"
   ]
  },
  {
   "cell_type": "markdown",
   "metadata": {
    "id": "gMo29nogPpDI"
   },
   "source": [
    "### Постановка задачи"
   ]
  },
  {
   "cell_type": "markdown",
   "metadata": {
    "id": "YyNqz9hPPrIE"
   },
   "source": [
    "В рамках этого проекта вы сами найдете датасет, с которым будете работать. Точнее, не найдете, а... соберёте его самостоятельно на основе источников!\n",
    "\n",
    "Итак, начните с того, что выберите два сайта/портала со схожей тематикой (например, NYT и Bloomberg). Их тематика должна позволять в дальнейшем объединить данные в единую таблицу. Один из этих двух сайтов нужно будет обработать с помощью средств Web-Scraping'a и Data Parsing'a; другой же — используя API.\n",
    "\n",
    "Определившись с источниками, непосредственно проделайте скачивание данных путём скрейпинга и методами API соответственно и затем объедините всё в финальный датасет. Обязательным требованием к датасету является также наличие в нём как минимум одного столбца с текстовыми данными: описание, состав, комментарии о чём-либо, текст заметки/новости, или что-то ещё.\n",
    "\n",
    "Кроме того, разумеется, следует помнить, что полученный датасет должен, конечно, быть осмысленным с бизнес-точки зрения и потенциально позволять решать какую-то конкретную бизнес-задачу. Это как минимум означает, что каждому объекту, имеющему своё признаковое пространство — в том числе с текстовым признаком, — должно также соответствовать значение некоторой целевой переменной, которая является релевантной в рамках выбранной вами предметной области.\n",
    "\n",
    "\n"
   ]
  },
  {
   "cell_type": "markdown",
   "metadata": {
    "id": "9iaXs89vRb1e"
   },
   "source": [
    "Примеры задач, которые мы можем предложить вам в качестве источника для вдохновения — пожалуйста, ни в коем случае не воспринимайте это как исчерпывающий список — это действительно всего лишь примеры:\n",
    "\n",
    "* Сайт новостей: текстовый столбец — сама новость; признаки — различные характеристики новости: автор, дата публикации, тип новости и т.д.; целевая переменная — количество просмотров новости (можно поделить на число дней с момента даты публикации, чтобы получить «среднее число просмотров в день», что ещё нагляднее)\n",
    "\n",
    "* Сайт с товарами/книгами/фильмами: текстовый столбец — описание товара/книги/фильма; признаки — различные характеристики объекта: цена, год производства/выпуска, компания-производитель и т.д.; целевая переменная — средний рейтинг объекта\n",
    "\n",
    "* Блоги: текстовый столбец — тексты заметок; признаки — различные характеристики заметки: автор, время публикации, количество прикрепленных изображений и т.д.; целевая переменная — число просмотров\n",
    "\n",
    "* И любые другие ваши идеи, которые подходят под описанный выше формат"
   ]
  },
  {
   "cell_type": "markdown",
   "metadata": {
    "id": "VRotK-nXRsGn"
   },
   "source": [
    "После сбора данных и объединения их в общий датасет, необходимо очистить его от мусора (в том числе, например, с помощью регулярных выражений); посчитать различные статистики по собранным данным (в случае если столбец текстовый, то, например, посчитать частотности слов, выявляя наиболее частотные слова, и т.д.); а также в целом провести EDA в контексте той бизнес-задачи, которую мы потенциально хотим решить по полученному датасету. В конце сделать выводы из проделанной работы."
   ]
  },
  {
   "cell_type": "markdown",
   "metadata": {
    "id": "jw2I5j46xsrG"
   },
   "source": [
    "### Этапы проекта"
   ]
  },
  {
   "cell_type": "markdown",
   "metadata": {
    "id": "kO_bjLfWxvdV"
   },
   "source": [
    "Ниже для вашего удобства еще раз в краткой форме представляем примерные этапы реализации проекта:\n",
    "\n",
    "- Выбор источников данных, в соответствии с требованиями, описанными выше\n",
    "- Формулировка бизнес-задачи, которую могла бы хотеть решить компания/платформа, на основе собираемых данных\n",
    "- Обоснование сформулированной бизнес-задачи\n",
    "- Извлечение данных путём работы с API\n",
    "- Извлечение данных путём скрапинга и парсинга\n",
    "- Первичная обработка данных (EDA)\n",
    "- Получение и агрегация результатов, финальные выводы"
   ]
  },
  {
   "cell_type": "markdown",
   "metadata": {
    "id": "Yf_5kM7K6XPn"
   },
   "source": [
    "### Общие требования к проекту"
   ]
  },
  {
   "cell_type": "markdown",
   "metadata": {
    "id": "coqxjUJY4D4B"
   },
   "source": [
    "В качестве результата выполнения группового проекта ваша команда должна получить презентацию, а также репозиторий с кодом на GitHub. Демонстрация репозитория и защита презентации перед комиссией осуществляется в фиксированную дату.\n",
    "\n",
    "Оформление презентации остаётся полностью на ваше усмотрение, но помните, что результат должен быть релевантен для демонстрации бизнес-заказчику — комиссию, принимающую вашу работу, правильнее всего воспринимать именно в таком качестве. Например, вставлять в презентацию строчки кода или злоупотреблять скринами блокнота не рекомендуется.\n",
    "\n",
    "С точки зрения концепции выполнения проекта — вам необходимо принять на себя роль дата-инженеров: продумать идеологию получения и извлечения данных с платформы — и дата-аналитиков: соотнести бизнес-задачу с формулировками на языке данных и извлечь полезные инсайты из проделанной работы. А в конце, конечно, — презентовать всю эту красоту в понятном виде потенциальному заказчику.\n",
    "\n",
    "Разумеется, чем сложнее и чем нетривиальнее будет ваша задача, а также чем глубже и чем осмысленнее будут выводы, извлечённые в рамках этой задачи, — тем выше окажется качество вашего проекта и тем выше он будет оценён!\n"
   ]
  },
  {
   "cell_type": "markdown",
   "metadata": {
    "id": "BIMqig8J-cWl"
   },
   "source": [
    "### Полезные замечания и советы"
   ]
  },
  {
   "cell_type": "markdown",
   "metadata": {
    "id": "myYUHrtD-gcj"
   },
   "source": [
    "- Графики и визуализации — это очень хорошо — все любят графики\n",
    "- Следите за тем, чтобы все графики на слайдах можно было прочитать даже без ваших комментариев\n",
    "- Не нужно делать просто текстовые слайды\n",
    "- Стройте свой проект, исходя из того, что ваша цель представить полезную информацию для бизнеса\n",
    "- Любой хороший Data Scientist должен уметь работать в команде, поэтому распределение ваших усилий в проекте остается за вами"
   ]
  },
  {
   "cell_type": "markdown",
   "metadata": {
    "id": "vVNkvwUpQ29a"
   },
   "source": [
    "### Технические требования"
   ]
  },
  {
   "cell_type": "markdown",
   "metadata": {
    "id": "xzVkvsfiRAMi"
   },
   "source": [
    "Ниже чуть более детализированно будут представлены минимальные технические требования по всем основным этапам и составным частям выполняемого вами группового проекта."
   ]
  },
  {
   "cell_type": "markdown",
   "metadata": {
    "id": "wqiq25koghg4"
   },
   "source": [
    "#### Обязательный сбор данных через API"
   ]
  },
  {
   "cell_type": "markdown",
   "metadata": {
    "id": "j4qH0SBNgmJs"
   },
   "source": [
    "* Необходимо реализовать сбор данных через API для как минимум одного веб-сайта\n",
    "* При формировании датасета должно осуществляться **не менее 5** различных запросов к API\n",
    "* Данный этап является обязательным, что означает, что без его полного выполнения ***нельзя получить оценку за проект выше 1***\n"
   ]
  },
  {
   "cell_type": "markdown",
   "metadata": {
    "id": "rgOAXjwMg1y3"
   },
   "source": [
    "#### Обязательный сбор данных посредством скрапинга"
   ]
  },
  {
   "cell_type": "markdown",
   "metadata": {
    "id": "Hw8T5Maig8NC"
   },
   "source": [
    "* Необходимо реализовать сбор и парсинг данных через библиотеки `requests` / `bs4` и другие рассмотренные в рамках семинара для как минимум одного веб-сайта, отличного от веб-сайта из предыдущего пункта\n",
    "* Получившийся датасет должен содержать **не менее 10 000** записей\n",
    "* Данный этап является обязательным, что означает, что без его полного выполнения ***нельзя получить оценку за проект выше 1***"
   ]
  },
  {
   "cell_type": "markdown",
   "metadata": {
    "id": "PZjO7mB-h20v"
   },
   "source": [
    "#### Разведочный анализ данных (EDA)"
   ]
  },
  {
   "cell_type": "markdown",
   "metadata": {
    "id": "IrRFEOlBh9g-"
   },
   "source": [
    "* Изучить особенности данных в рамках объединённого датасета:\n",
    "  * Есть ли пропущенные значения? Сколько? Какова их доля от общего числа объектов для каждого конкретного признака? И, в целом, насколько ваш датасет “разрежен” в контексте пропущенных значений? Выдвинуть и (желательно) проверить гипотезу, что могут означать пропущенные значения? Осмысленно и аргументированно обработать пропуски.\n",
    "  * Есть ли ошибочные  (например, отрицательный возраст или пятиметровый рост человека; 3-й класс в задаче бинарной классификации) значения (признаки, целевая переменная) в данных? Обработать их.\n",
    "  * Есть ли выбросы в данных? По возможности обработать их.\n",
    "* Изучить поведение каждого признака в отдельности, его связь с целевой переменной, а также попарные корреляции (в том числе и в особенности с таргетом). Визуализировать попарные распределения признаков и корреляции наиболее значимых.\n",
    "* Построить подходящие сводные таблицы и прочие диаграммы.\n",
    "* Если проведенный вами анализ позволяет сделать какие-либо выводы, постараться сформулировать их максимально глубоко и развернуто. Упомянуть, как можно задействовать в дальнейшем приобретенные вами на этом этапе знания в решаемой задаче.\n",
    "* Осуществить и другие осмысленные действия в рамках процесса EDA.\n"
   ]
  },
  {
   "cell_type": "markdown",
   "metadata": {
    "id": "kXQoZKXnS_kj"
   },
   "source": [
    "#### GitHub и требования при использовании СКВ"
   ]
  },
  {
   "cell_type": "markdown",
   "metadata": {
    "id": "VUobb1cEUlpB"
   },
   "source": [
    "*   Для выполнения задания вы должны создать проект на GitHub (один репозиторий на всю команду!)\n",
    "*   Необходимо добавить в репозиторий `.gitignore` и не грузить в репозиторий лишние файлы\n",
    "*   Необходимо добавить в репозиторий `README.md` с подробным описанием проекта. В этот файл также необходимо добавить подробное описание данных — описание признаков, их тип, количество объектов каждого класса (в задачах классификации), информацию о пропущенных значениях (в т.ч о типичных филлерах, если это не `nan`). Также добавляйте другие релевантные вашей задачи описательные характеристики данных. После чтения этого файла у человека со стороны не должно остаться никаких вопросов про данные\n",
    "*   В репозитории проекта размещаются ноутбуки / скрипты со сбором данных\n",
    "*   Коммиты делаются осмысленно, с понятными внешнему наблюдателю комментариями — что было сделано по факту\n",
    "*   При разработке необходимо соблюдать [гитфлоу](https://www.umgum.com/gitlab-workflow)"
   ]
  },
  {
   "cell_type": "markdown",
   "metadata": {
    "id": "LQSfM5wXkaV_"
   },
   "source": [
    "#### Артефакты по окончании работы над проектом"
   ]
  },
  {
   "cell_type": "markdown",
   "metadata": {
    "id": "6g9-UE3skdOw"
   },
   "source": [
    "* Ноутбуки / скрипты со сбором и извлечением данных\n",
    "* Ноутбуки c осуществлением EDA\n",
    "* Файл `.gitignore`\n",
    "* Заполненный файл `README.md` в репозитории проекта на гитхабе со ссылкой на данные и их подробным описанием, с выводами о проведенном EDA\n",
    "\n"
   ]
  },
  {
   "cell_type": "markdown",
   "metadata": {
    "id": "IOAMSmAyVs-w"
   },
   "source": [
    "#### Логирование"
   ]
  },
  {
   "cell_type": "markdown",
   "metadata": {
    "id": "ACU-GJX4VzCM"
   },
   "source": [
    "* Для получения высоких баллов добавьте в ваш проект логирование. Потренируйтесь включать и выключать его через файл настроек, а также задавать уровень логирования через этот же файл (не в приложении)\n",
    "* Запустите ваш код, чтобы сохранился файл с логами\n",
    "* Про логи можно почитать [тут](https://habr.com/ru/companies/wunderfund/articles/683880/) и [тут](https://tproger.ru/articles/shpargalka-po-logirovaniju-na-python)  "
   ]
  },
  {
   "cell_type": "markdown",
   "metadata": {
    "id": "HeMwqtMoWOZy"
   },
   "source": [
    "#### Библиотека Selenium"
   ]
  },
  {
   "cell_type": "markdown",
   "metadata": {
    "id": "Vmr095KHWPgn"
   },
   "source": [
    "* Для получения высоких баллов используйте библиотеку Selenium при сборе данных\n",
    "* Реализуйте имитацию работы пользователя через Selenium\n",
    "* Про данную библиотеку можно почитать [тут](https://habr.com/ru/companies/selectel/articles/754674/) и [тут](https://happypython.ru/2022/11/27/selenium-chromedriver-find-elements/)"
   ]
  },
  {
   "cell_type": "markdown",
   "metadata": {
    "id": "nUgPW81IAl8k"
   },
   "source": [
    "## Критерии оценки проекта"
   ]
  },
  {
   "cell_type": "markdown",
   "metadata": {
    "id": "kPjYuWD_BX7C"
   },
   "source": [
    "Оценка за групповой проект в целом — то есть первая из двух оценок — выставляется по 10 балльной шкале, исходя из 3 критериев. Также комиссия на своё усмотрение может добавить (но не снизить) некоторое количество бонусных баллов за рамками данных критериев.\n",
    "\n",
    "Каждый из критериев будет перечислен и рассмотрен ниже."
   ]
  },
  {
   "cell_type": "markdown",
   "metadata": {
    "id": "lGGI5KRrCL5r"
   },
   "source": [
    "### Критерий 1. Выбор задачи и EDA (до 3,5 баллов)\n",
    "\n",
    "Данный критерий оценивает, насколько обоснованной и осмысленной получилась решаемая бизнес-задача; насколько полно был осуществлен переход от бизнес-задачи к пайплайну подготовки данных (насколько в реальности формируемый датасет соответствует исходной постановке задачи с точки зрения интересов компании и насколько может помочь в решении такой задачи); а также насколько корректными, объёмными и прикладными для бизнеса получились выявленные в ходе исследования инсайты."
   ]
  },
  {
   "cell_type": "markdown",
   "metadata": {
    "id": "DtcgCZ3FmZL-"
   },
   "source": [
    "### Критерий 2. GitHub (до 1 балла)\n",
    "\n",
    "Данный критерий оценивает, насколько корректным и квалифицированным было применение средств системы контроля версий в проекте; насколько были выполнены представленные в задании требования по всем необходимым файлам и условиям в рамках работы с GitHub; а также насколько эффективно данная система в действительности использовалась командой для распараллеливания задач по проекту."
   ]
  },
  {
   "cell_type": "markdown",
   "metadata": {
    "id": "GzH0e3v6DIsM"
   },
   "source": [
    "### Критерий 3. Инструменты извлечения данных (до 5,5 баллов)\n",
    "\n",
    "Данный критерий оценивает техническую реализацию процесса сбора данных автоматизированным образом с сайтов и порталов. В рамках этого критерия будет рассматриваться спектр различных технических инструментов, внедрённых в проект; корректность, эффективность и правильность их применения; а также сложность и новизна алгоритмов, подходов и библиотек, применяемых к данным.\n",
    "\n",
    "*__Важно:__ в случае оценки __1 балл и ниже__ за этот критерий — оценка за весь проект становится равна оценке за этот критерий.*\n",
    "\n",
    "*По данному критерию можно получить __больше 1 балла__ только при условии применения как средств Data Scraping (автоматического считывания HTML-кода страниц с последующей его обработкой), так и средств API (получению данных с использованием официальных протоколов компании/портала). При этом средства Scraping и API следует применять к разным компаниям/порталам, но представленным в рамках одной и той же предметной области (бизнес-задачи).*\n",
    "\n",
    "*По данному критерию можно получить **3 балла и выше** только при условии использования в проекте логирования __ИЛИ__ библиотеки Selenium.*\n",
    "\n",
    "*По данному критерию можно получить **4 балла и выше** только при условии использования в проекте логирования __И__ библиотеки Selenium.*\n",
    "\n",
    "*По данному критерию можно получить **5 баллов и выше** только при условии использования в проекте логирования, библиотеки Selenium и, кроме этого, обоснованного применения дополнительных инструментов/подходов/библиотек, не упомянутых ранее в этом ноутбуке и не рассматривавшихся в рамках соответствующего семинара.*"
   ]
  },
  {
   "cell_type": "code",
   "execution_count": 77,
   "metadata": {},
   "outputs": [
    {
     "name": "stdout",
     "output_type": "stream",
     "text": [
      "Defaulting to user installation because normal site-packages is not writeable\n",
      "Requirement already satisfied: selenium in c:\\users\\dan\\appdata\\roaming\\python\\python312\\site-packages (4.29.0)\n",
      "Requirement already satisfied: urllib3<3,>=1.26 in c:\\programdata\\anaconda3\\lib\\site-packages (from urllib3[socks]<3,>=1.26->selenium) (2.2.3)\n",
      "Requirement already satisfied: trio~=0.17 in c:\\users\\dan\\appdata\\roaming\\python\\python312\\site-packages (from selenium) (0.29.0)\n",
      "Requirement already satisfied: trio-websocket~=0.9 in c:\\users\\dan\\appdata\\roaming\\python\\python312\\site-packages (from selenium) (0.12.2)\n",
      "Requirement already satisfied: certifi>=2021.10.8 in c:\\programdata\\anaconda3\\lib\\site-packages (from selenium) (2024.8.30)\n",
      "Requirement already satisfied: typing_extensions~=4.9 in c:\\programdata\\anaconda3\\lib\\site-packages (from selenium) (4.11.0)\n",
      "Requirement already satisfied: websocket-client~=1.8 in c:\\programdata\\anaconda3\\lib\\site-packages (from selenium) (1.8.0)\n",
      "Requirement already satisfied: attrs>=23.2.0 in c:\\users\\dan\\appdata\\roaming\\python\\python312\\site-packages (from trio~=0.17->selenium) (25.1.0)\n",
      "Requirement already satisfied: sortedcontainers in c:\\programdata\\anaconda3\\lib\\site-packages (from trio~=0.17->selenium) (2.4.0)\n",
      "Requirement already satisfied: idna in c:\\programdata\\anaconda3\\lib\\site-packages (from trio~=0.17->selenium) (3.7)\n",
      "Requirement already satisfied: outcome in c:\\users\\dan\\appdata\\roaming\\python\\python312\\site-packages (from trio~=0.17->selenium) (1.3.0.post0)\n",
      "Requirement already satisfied: sniffio>=1.3.0 in c:\\programdata\\anaconda3\\lib\\site-packages (from trio~=0.17->selenium) (1.3.0)\n",
      "Requirement already satisfied: cffi>=1.14 in c:\\programdata\\anaconda3\\lib\\site-packages (from trio~=0.17->selenium) (1.17.1)\n",
      "Requirement already satisfied: wsproto>=0.14 in c:\\users\\dan\\appdata\\roaming\\python\\python312\\site-packages (from trio-websocket~=0.9->selenium) (1.2.0)\n",
      "Requirement already satisfied: pysocks!=1.5.7,<2.0,>=1.5.6 in c:\\programdata\\anaconda3\\lib\\site-packages (from urllib3[socks]<3,>=1.26->selenium) (1.7.1)\n",
      "Requirement already satisfied: pycparser in c:\\programdata\\anaconda3\\lib\\site-packages (from cffi>=1.14->trio~=0.17->selenium) (2.21)\n",
      "Requirement already satisfied: h11<1,>=0.9.0 in c:\\programdata\\anaconda3\\lib\\site-packages (from wsproto>=0.14->trio-websocket~=0.9->selenium) (0.14.0)\n"
     ]
    }
   ],
   "source": [
    "!pip install selenium"
   ]
  },
  {
   "cell_type": "code",
   "execution_count": 78,
   "metadata": {},
   "outputs": [
    {
     "name": "stdout",
     "output_type": "stream",
     "text": [
      "Defaulting to user installation because normal site-packages is not writeable\n",
      "Requirement already satisfied: webdriver-manager in c:\\users\\dan\\appdata\\roaming\\python\\python312\\site-packages (4.0.2)\n",
      "Requirement already satisfied: requests in c:\\users\\dan\\appdata\\roaming\\python\\python312\\site-packages (from webdriver-manager) (2.30.0)\n",
      "Requirement already satisfied: python-dotenv in c:\\programdata\\anaconda3\\lib\\site-packages (from webdriver-manager) (0.21.0)\n",
      "Requirement already satisfied: packaging in c:\\programdata\\anaconda3\\lib\\site-packages (from webdriver-manager) (24.1)\n",
      "Requirement already satisfied: charset-normalizer<4,>=2 in c:\\programdata\\anaconda3\\lib\\site-packages (from requests->webdriver-manager) (3.3.2)\n",
      "Requirement already satisfied: idna<4,>=2.5 in c:\\programdata\\anaconda3\\lib\\site-packages (from requests->webdriver-manager) (3.7)\n",
      "Requirement already satisfied: urllib3<3,>=1.21.1 in c:\\programdata\\anaconda3\\lib\\site-packages (from requests->webdriver-manager) (2.2.3)\n",
      "Requirement already satisfied: certifi>=2017.4.17 in c:\\programdata\\anaconda3\\lib\\site-packages (from requests->webdriver-manager) (2024.8.30)\n"
     ]
    }
   ],
   "source": [
    "!pip install webdriver-manager"
   ]
  },
  {
   "cell_type": "code",
   "execution_count": 79,
   "metadata": {},
   "outputs": [
    {
     "name": "stdout",
     "output_type": "stream",
     "text": [
      "Defaulting to user installation because normal site-packages is not writeable\n",
      "Requirement already satisfied: requests in c:\\users\\dan\\appdata\\roaming\\python\\python312\\site-packages (2.30.0)\n",
      "Requirement already satisfied: charset-normalizer<4,>=2 in c:\\programdata\\anaconda3\\lib\\site-packages (from requests) (3.3.2)\n",
      "Requirement already satisfied: idna<4,>=2.5 in c:\\programdata\\anaconda3\\lib\\site-packages (from requests) (3.7)\n",
      "Requirement already satisfied: urllib3<3,>=1.21.1 in c:\\programdata\\anaconda3\\lib\\site-packages (from requests) (2.2.3)\n",
      "Requirement already satisfied: certifi>=2017.4.17 in c:\\programdata\\anaconda3\\lib\\site-packages (from requests) (2024.8.30)\n"
     ]
    }
   ],
   "source": [
    "!pip install requests"
   ]
  },
  {
   "cell_type": "code",
   "execution_count": 80,
   "metadata": {},
   "outputs": [
    {
     "name": "stdout",
     "output_type": "stream",
     "text": [
      "Defaulting to user installation because normal site-packages is not writeable\n",
      "Requirement already satisfied: amazoncaptcha in c:\\users\\dan\\appdata\\roaming\\python\\python312\\site-packages (0.5.11)\n",
      "Requirement already satisfied: pillow<9.6.0,>=9.0.1 in c:\\users\\dan\\appdata\\roaming\\python\\python312\\site-packages (from amazoncaptcha) (9.5.0)\n",
      "Requirement already satisfied: requests<2.31.0,>=2.27.1 in c:\\users\\dan\\appdata\\roaming\\python\\python312\\site-packages (from amazoncaptcha) (2.30.0)\n",
      "Requirement already satisfied: charset-normalizer<4,>=2 in c:\\programdata\\anaconda3\\lib\\site-packages (from requests<2.31.0,>=2.27.1->amazoncaptcha) (3.3.2)\n",
      "Requirement already satisfied: idna<4,>=2.5 in c:\\programdata\\anaconda3\\lib\\site-packages (from requests<2.31.0,>=2.27.1->amazoncaptcha) (3.7)\n",
      "Requirement already satisfied: urllib3<3,>=1.21.1 in c:\\programdata\\anaconda3\\lib\\site-packages (from requests<2.31.0,>=2.27.1->amazoncaptcha) (2.2.3)\n",
      "Requirement already satisfied: certifi>=2017.4.17 in c:\\programdata\\anaconda3\\lib\\site-packages (from requests<2.31.0,>=2.27.1->amazoncaptcha) (2024.8.30)\n"
     ]
    }
   ],
   "source": [
    "!pip install amazoncaptcha"
   ]
  },
  {
   "cell_type": "code",
   "execution_count": 81,
   "metadata": {},
   "outputs": [],
   "source": [
    "import pandas as pd \n",
    "import numpy as np \n",
    "import requests\n",
    "import sys\n",
    "import csv\n",
    "import time\n",
    "from selenium import webdriver\n",
    "from selenium.webdriver.chrome.service import Service\n",
    "from selenium.webdriver.common.by import By\n",
    "from selenium.webdriver.chrome.options import Options\n",
    "from bs4 import BeautifulSoup\n",
    "from selenium.webdriver.common.action_chains import ActionChains\n",
    "from selenium.webdriver.common.keys import Keys\n",
    "from amazoncaptcha import AmazonCaptcha"
   ]
  },
  {
   "cell_type": "code",
   "execution_count": 82,
   "metadata": {},
   "outputs": [],
   "source": [
    "chrome_options = Options()\n",
    "chrome_options.add_argument(\"--headless\")  # Запуск в фоновом режиме (без открытия браузера)"
   ]
  },
  {
   "cell_type": "code",
   "execution_count": 83,
   "metadata": {},
   "outputs": [],
   "source": [
    "driver = webdriver.Chrome() # options=chrome_options\n",
    "\n",
    "url = 'https://www.amazon.com/'\n",
    "\n",
    "driver.get(url)\n",
    "time.sleep(3)\n",
    "# time.sleep(10) # Т.к. надо вручную пройти капчу (ну либо деньги платить за сервисы для ее автономного прохождения)"
   ]
  },
  {
   "cell_type": "code",
   "execution_count": 84,
   "metadata": {},
   "outputs": [],
   "source": [
    "def SolveCaptcha(driver):\n",
    "    link = driver.find_element(By.XPATH, \"//div[@class = 'a-row a-text-center']//img\").get_attribute('src')\n",
    "\n",
    "    captcha = AmazonCaptcha.fromlink(link)\n",
    "    \n",
    "    captcha_value = AmazonCaptcha.solve(captcha)\n",
    "    \n",
    "    clickable = driver.find_element(By.ID, 'captchacharacters')\n",
    "    ActionChains(driver) \\\n",
    "        .click(clickable) \\\n",
    "        .perform()\n",
    "    \n",
    "    time.sleep(1)\n",
    "    \n",
    "    ActionChains(driver)\\\n",
    "            .send_keys(captcha_value)\\\n",
    "            .perform()\n",
    "    \n",
    "    clickable = driver.find_element(By.XPATH, \"//button[@class = 'a-button-text']\")\n",
    "    ActionChains(driver) \\\n",
    "        .click(clickable) \\\n",
    "        .perform()\n",
    "    return driver"
   ]
  },
  {
   "cell_type": "code",
   "execution_count": 85,
   "metadata": {},
   "outputs": [],
   "source": [
    "driver = SolveCaptcha(driver)"
   ]
  },
  {
   "cell_type": "code",
   "execution_count": 86,
   "metadata": {},
   "outputs": [],
   "source": [
    "def SetCountry(driver):\n",
    "    clickable = driver.find_element(By.ID, 'nav-global-location-popover-link')\n",
    "    ActionChains(driver) \\\n",
    "        .click(clickable) \\\n",
    "        .perform()\n",
    "    \n",
    "    time.sleep(1)\n",
    "    \n",
    "    clickable = driver.find_element(By.ID, 'GLUXZipUpdateInput')\n",
    "    ActionChains(driver) \\\n",
    "        .click(clickable) \\\n",
    "        .perform()\n",
    "    \n",
    "    time.sleep(1)\n",
    "    \n",
    "    ActionChains(driver)\\\n",
    "            .send_keys(\"10001\")\\\n",
    "            .perform()\n",
    "    \n",
    "    time.sleep(1)\n",
    "    \n",
    "    clickable = driver.find_element(By.ID, 'GLUXZipUpdate')\n",
    "    ActionChains(driver) \\\n",
    "        .click(clickable) \\\n",
    "        .perform()\n",
    "    \n",
    "    time.sleep(1)\n",
    "    \n",
    "    ActionChains(driver).send_keys(Keys.ESCAPE).perform()\n",
    "    \n",
    "    time.sleep(2)"
   ]
  },
  {
   "cell_type": "code",
   "execution_count": 87,
   "metadata": {},
   "outputs": [],
   "source": [
    "driver = SetCountry(driver)"
   ]
  },
  {
   "cell_type": "code",
   "execution_count": 88,
   "metadata": {},
   "outputs": [],
   "source": [
    "clickable = driver.find_element(By.ID, 'nav-hamburger-menu')\n",
    "ActionChains(driver) \\\n",
    "    .click(clickable) \\\n",
    "    .perform()\n",
    "\n",
    "time.sleep(2)"
   ]
  },
  {
   "cell_type": "code",
   "execution_count": 89,
   "metadata": {},
   "outputs": [],
   "source": [
    "html = driver.page_source\n",
    "\n",
    "soup = BeautifulSoup(html, 'html.parser')\n",
    "\n",
    "df = pd.DataFrame({'Category': [], 'Subcategory': [], 'Link': []})\n",
    "\n",
    "for i in soup.find_all(\"ul\", {'class': \"hmenu hmenu-translateX-right\"}):\n",
    "    if int(i['data-menu-id']) > 11 and int(i['data-menu-id']) < 29:\n",
    "        categ = i.find_all('div')[1].text\n",
    "        if 'Whole Foods' in categ or 'Amazon' in categ or 'More to Explore' in categ:\n",
    "            continue\n",
    "        flag = False\n",
    "        for j in i.find_all('li'):\n",
    "            try:\n",
    "                if int(j.find('div')['aria-level']) == 6:\n",
    "                    if flag:\n",
    "                        break\n",
    "                    flag = True\n",
    "            except:\n",
    "                pass\n",
    "            try:\n",
    "                k = j.find('a')\n",
    "                if k.text != 'main menu' and 'Amazon' not in k.text:\n",
    "                    df.loc[len(df)] = [categ, k.text, url[0:-1] + k['href']]\n",
    "            except:\n",
    "                pass"
   ]
  },
  {
   "cell_type": "code",
   "execution_count": 90,
   "metadata": {},
   "outputs": [
    {
     "data": {
      "text/html": [
       "<div>\n",
       "<style scoped>\n",
       "    .dataframe tbody tr th:only-of-type {\n",
       "        vertical-align: middle;\n",
       "    }\n",
       "\n",
       "    .dataframe tbody tr th {\n",
       "        vertical-align: top;\n",
       "    }\n",
       "\n",
       "    .dataframe thead th {\n",
       "        text-align: right;\n",
       "    }\n",
       "</style>\n",
       "<table border=\"1\" class=\"dataframe\">\n",
       "  <thead>\n",
       "    <tr style=\"text-align: right;\">\n",
       "      <th></th>\n",
       "      <th>Category</th>\n",
       "      <th>Subcategory</th>\n",
       "      <th>Link</th>\n",
       "    </tr>\n",
       "  </thead>\n",
       "  <tbody>\n",
       "    <tr>\n",
       "      <th>0</th>\n",
       "      <td>Clothing, Shoes, Jewelry &amp; Watches</td>\n",
       "      <td>Women</td>\n",
       "      <td>https://www.amazon.com/gp/browse.html?node=714...</td>\n",
       "    </tr>\n",
       "    <tr>\n",
       "      <th>1</th>\n",
       "      <td>Clothing, Shoes, Jewelry &amp; Watches</td>\n",
       "      <td>Men</td>\n",
       "      <td>https://www.amazon.com/gp/browse.html?node=714...</td>\n",
       "    </tr>\n",
       "    <tr>\n",
       "      <th>2</th>\n",
       "      <td>Clothing, Shoes, Jewelry &amp; Watches</td>\n",
       "      <td>Girls</td>\n",
       "      <td>https://www.amazon.com/gp/browse.html?node=714...</td>\n",
       "    </tr>\n",
       "    <tr>\n",
       "      <th>3</th>\n",
       "      <td>Clothing, Shoes, Jewelry &amp; Watches</td>\n",
       "      <td>Boys</td>\n",
       "      <td>https://www.amazon.com/gp/browse.html?node=714...</td>\n",
       "    </tr>\n",
       "    <tr>\n",
       "      <th>4</th>\n",
       "      <td>Clothing, Shoes, Jewelry &amp; Watches</td>\n",
       "      <td>Baby</td>\n",
       "      <td>https://www.amazon.com/gp/browse.html?node=714...</td>\n",
       "    </tr>\n",
       "    <tr>\n",
       "      <th>5</th>\n",
       "      <td>Clothing, Shoes, Jewelry &amp; Watches</td>\n",
       "      <td>Luggage</td>\n",
       "      <td>https://www.amazon.com/gp/browse.html?node=947...</td>\n",
       "    </tr>\n",
       "    <tr>\n",
       "      <th>6</th>\n",
       "      <td>Clothing, Shoes, Jewelry &amp; Watches</td>\n",
       "      <td>Luxury Stores</td>\n",
       "      <td>https://www.amazon.com/luxurystores?ref_=nav_e...</td>\n",
       "    </tr>\n",
       "    <tr>\n",
       "      <th>7</th>\n",
       "      <td>Clothing, Shoes, Jewelry &amp; Watches</td>\n",
       "      <td>The Drop</td>\n",
       "      <td>https://www.amazon.comhttps://www.amazon.com/t...</td>\n",
       "    </tr>\n",
       "    <tr>\n",
       "      <th>8</th>\n",
       "      <td>Clothing, Shoes, Jewelry &amp; Watches</td>\n",
       "      <td>Sales &amp; Deals</td>\n",
       "      <td>https://www.amazon.com/gp/browse.html?node=953...</td>\n",
       "    </tr>\n",
       "    <tr>\n",
       "      <th>9</th>\n",
       "      <td>Books</td>\n",
       "      <td>Books</td>\n",
       "      <td>https://www.amazon.com/gp/browse.html?node=283...</td>\n",
       "    </tr>\n",
       "    <tr>\n",
       "      <th>10</th>\n",
       "      <td>Books</td>\n",
       "      <td>Children's Books</td>\n",
       "      <td>https://www.amazon.com/gp/browse.html?node=4&amp;r...</td>\n",
       "    </tr>\n",
       "    <tr>\n",
       "      <th>11</th>\n",
       "      <td>Books</td>\n",
       "      <td>Textbooks</td>\n",
       "      <td>https://www.amazon.com/gp/browse.html?node=465...</td>\n",
       "    </tr>\n",
       "    <tr>\n",
       "      <th>12</th>\n",
       "      <td>Movies, Music &amp; Games</td>\n",
       "      <td>Movies &amp; TV</td>\n",
       "      <td>https://www.amazon.com/gp/browse.html?node=262...</td>\n",
       "    </tr>\n",
       "    <tr>\n",
       "      <th>13</th>\n",
       "      <td>Movies, Music &amp; Games</td>\n",
       "      <td>Blu-ray</td>\n",
       "      <td>https://www.amazon.com/gp/browse.html?node=290...</td>\n",
       "    </tr>\n",
       "    <tr>\n",
       "      <th>14</th>\n",
       "      <td>Movies, Music &amp; Games</td>\n",
       "      <td>Prime Video - Included with Prime</td>\n",
       "      <td>https://www.amazon.com/gp/browse.html?node=285...</td>\n",
       "    </tr>\n",
       "    <tr>\n",
       "      <th>15</th>\n",
       "      <td>Movies, Music &amp; Games</td>\n",
       "      <td>CDs &amp; Vinyl</td>\n",
       "      <td>https://www.amazon.com/gp/browse.html?node=517...</td>\n",
       "    </tr>\n",
       "    <tr>\n",
       "      <th>16</th>\n",
       "      <td>Movies, Music &amp; Games</td>\n",
       "      <td>Digital Music</td>\n",
       "      <td>https://www.amazon.com/gp/browse.html?node=163...</td>\n",
       "    </tr>\n",
       "    <tr>\n",
       "      <th>17</th>\n",
       "      <td>Movies, Music &amp; Games</td>\n",
       "      <td>Musical Instruments</td>\n",
       "      <td>https://www.amazon.com/gp/browse.html?node=110...</td>\n",
       "    </tr>\n",
       "    <tr>\n",
       "      <th>18</th>\n",
       "      <td>Movies, Music &amp; Games</td>\n",
       "      <td>Headphones</td>\n",
       "      <td>https://www.amazon.com/gp/browse.html?node=172...</td>\n",
       "    </tr>\n",
       "    <tr>\n",
       "      <th>19</th>\n",
       "      <td>Movies, Music &amp; Games</td>\n",
       "      <td>Video Games</td>\n",
       "      <td>https://www.amazon.com/gp/browse.html?node=468...</td>\n",
       "    </tr>\n",
       "  </tbody>\n",
       "</table>\n",
       "</div>"
      ],
      "text/plain": [
       "                              Category                        Subcategory  \\\n",
       "0   Clothing, Shoes, Jewelry & Watches                              Women   \n",
       "1   Clothing, Shoes, Jewelry & Watches                                Men   \n",
       "2   Clothing, Shoes, Jewelry & Watches                              Girls   \n",
       "3   Clothing, Shoes, Jewelry & Watches                               Boys   \n",
       "4   Clothing, Shoes, Jewelry & Watches                               Baby   \n",
       "5   Clothing, Shoes, Jewelry & Watches                            Luggage   \n",
       "6   Clothing, Shoes, Jewelry & Watches                      Luxury Stores   \n",
       "7   Clothing, Shoes, Jewelry & Watches                           The Drop   \n",
       "8   Clothing, Shoes, Jewelry & Watches                      Sales & Deals   \n",
       "9                                Books                              Books   \n",
       "10                               Books                   Children's Books   \n",
       "11                               Books                          Textbooks   \n",
       "12               Movies, Music & Games                        Movies & TV   \n",
       "13               Movies, Music & Games                            Blu-ray   \n",
       "14               Movies, Music & Games  Prime Video - Included with Prime   \n",
       "15               Movies, Music & Games                        CDs & Vinyl   \n",
       "16               Movies, Music & Games                      Digital Music   \n",
       "17               Movies, Music & Games                Musical Instruments   \n",
       "18               Movies, Music & Games                         Headphones   \n",
       "19               Movies, Music & Games                        Video Games   \n",
       "\n",
       "                                                 Link  \n",
       "0   https://www.amazon.com/gp/browse.html?node=714...  \n",
       "1   https://www.amazon.com/gp/browse.html?node=714...  \n",
       "2   https://www.amazon.com/gp/browse.html?node=714...  \n",
       "3   https://www.amazon.com/gp/browse.html?node=714...  \n",
       "4   https://www.amazon.com/gp/browse.html?node=714...  \n",
       "5   https://www.amazon.com/gp/browse.html?node=947...  \n",
       "6   https://www.amazon.com/luxurystores?ref_=nav_e...  \n",
       "7   https://www.amazon.comhttps://www.amazon.com/t...  \n",
       "8   https://www.amazon.com/gp/browse.html?node=953...  \n",
       "9   https://www.amazon.com/gp/browse.html?node=283...  \n",
       "10  https://www.amazon.com/gp/browse.html?node=4&r...  \n",
       "11  https://www.amazon.com/gp/browse.html?node=465...  \n",
       "12  https://www.amazon.com/gp/browse.html?node=262...  \n",
       "13  https://www.amazon.com/gp/browse.html?node=290...  \n",
       "14  https://www.amazon.com/gp/browse.html?node=285...  \n",
       "15  https://www.amazon.com/gp/browse.html?node=517...  \n",
       "16  https://www.amazon.com/gp/browse.html?node=163...  \n",
       "17  https://www.amazon.com/gp/browse.html?node=110...  \n",
       "18  https://www.amazon.com/gp/browse.html?node=172...  \n",
       "19  https://www.amazon.com/gp/browse.html?node=468...  "
      ]
     },
     "execution_count": 90,
     "metadata": {},
     "output_type": "execute_result"
    }
   ],
   "source": [
    "df.head(20)"
   ]
  },
  {
   "cell_type": "code",
   "execution_count": 91,
   "metadata": {},
   "outputs": [
    {
     "data": {
      "text/plain": [
       "(138, 3)"
      ]
     },
     "execution_count": 91,
     "metadata": {},
     "output_type": "execute_result"
    }
   ],
   "source": [
    "df.shape"
   ]
  },
  {
   "cell_type": "code",
   "execution_count": 92,
   "metadata": {},
   "outputs": [],
   "source": [
    "driver.quit()"
   ]
  },
  {
   "cell_type": "code",
   "execution_count": 93,
   "metadata": {},
   "outputs": [
    {
     "data": {
      "text/plain": [
       "\"\\ndf.to_csv('Categories_&_links.csv')\\n\""
      ]
     },
     "execution_count": 93,
     "metadata": {},
     "output_type": "execute_result"
    }
   ],
   "source": [
    "'''\n",
    "df.to_csv('Categories_&_links.csv')\n",
    "'''"
   ]
  },
  {
   "cell_type": "markdown",
   "metadata": {},
   "source": [
    "# Выбрали книги"
   ]
  },
  {
   "cell_type": "code",
   "execution_count": 94,
   "metadata": {},
   "outputs": [
    {
     "data": {
      "text/html": [
       "<div>\n",
       "<style scoped>\n",
       "    .dataframe tbody tr th:only-of-type {\n",
       "        vertical-align: middle;\n",
       "    }\n",
       "\n",
       "    .dataframe tbody tr th {\n",
       "        vertical-align: top;\n",
       "    }\n",
       "\n",
       "    .dataframe thead th {\n",
       "        text-align: right;\n",
       "    }\n",
       "</style>\n",
       "<table border=\"1\" class=\"dataframe\">\n",
       "  <thead>\n",
       "    <tr style=\"text-align: right;\">\n",
       "      <th></th>\n",
       "      <th>Category</th>\n",
       "      <th>Subcategory</th>\n",
       "      <th>Link</th>\n",
       "    </tr>\n",
       "  </thead>\n",
       "  <tbody>\n",
       "    <tr>\n",
       "      <th>9</th>\n",
       "      <td>Books</td>\n",
       "      <td>Books</td>\n",
       "      <td>https://www.amazon.com/gp/browse.html?node=283...</td>\n",
       "    </tr>\n",
       "  </tbody>\n",
       "</table>\n",
       "</div>"
      ],
      "text/plain": [
       "  Category Subcategory                                               Link\n",
       "9    Books       Books  https://www.amazon.com/gp/browse.html?node=283..."
      ]
     },
     "execution_count": 94,
     "metadata": {},
     "output_type": "execute_result"
    }
   ],
   "source": [
    "df[(df['Subcategory'] == 'Books')]"
   ]
  },
  {
   "cell_type": "code",
   "execution_count": 95,
   "metadata": {},
   "outputs": [
    {
     "data": {
      "text/html": [
       "<div>\n",
       "<style scoped>\n",
       "    .dataframe tbody tr th:only-of-type {\n",
       "        vertical-align: middle;\n",
       "    }\n",
       "\n",
       "    .dataframe tbody tr th {\n",
       "        vertical-align: top;\n",
       "    }\n",
       "\n",
       "    .dataframe thead th {\n",
       "        text-align: right;\n",
       "    }\n",
       "</style>\n",
       "<table border=\"1\" class=\"dataframe\">\n",
       "  <thead>\n",
       "    <tr style=\"text-align: right;\">\n",
       "      <th></th>\n",
       "      <th>Category</th>\n",
       "      <th>Subcategory</th>\n",
       "      <th>Link</th>\n",
       "    </tr>\n",
       "  </thead>\n",
       "  <tbody>\n",
       "    <tr>\n",
       "      <th>10</th>\n",
       "      <td>Books</td>\n",
       "      <td>Children's Books</td>\n",
       "      <td>https://www.amazon.com/gp/browse.html?node=4&amp;r...</td>\n",
       "    </tr>\n",
       "  </tbody>\n",
       "</table>\n",
       "</div>"
      ],
      "text/plain": [
       "   Category       Subcategory  \\\n",
       "10    Books  Children's Books   \n",
       "\n",
       "                                                 Link  \n",
       "10  https://www.amazon.com/gp/browse.html?node=4&r...  "
      ]
     },
     "execution_count": 95,
     "metadata": {},
     "output_type": "execute_result"
    }
   ],
   "source": [
    "df[(df['Subcategory'] == \"Children's Books\")]"
   ]
  },
  {
   "cell_type": "code",
   "execution_count": 96,
   "metadata": {},
   "outputs": [],
   "source": [
    "data = pd.DataFrame({'Title': [], 'Price': [], 'Currency':[], 'Rating': [], 'Number of reviews': [], 'Original Price': [], 'Main Genre': []})"
   ]
  },
  {
   "cell_type": "code",
   "execution_count": 97,
   "metadata": {},
   "outputs": [],
   "source": [
    "def Start(c, category_name):\n",
    "    driver = webdriver.Chrome() # options=chrome_options\n",
    "    flag = True\n",
    "    while flag:\n",
    "        try:\n",
    "            url = df[(df['Subcategory'] == c)]['Link'].iloc[0]\n",
    "            \n",
    "            driver.get(url)\n",
    "            \n",
    "            time.sleep(2)\n",
    "            \n",
    "            SetCountry(driver)\n",
    "            driver.refresh()\n",
    "            time.sleep(5)\n",
    "            \n",
    "            clickable = driver.find_element(By.ID, 'twotabsearchtextbox')\n",
    "            \n",
    "            time.sleep(1)\n",
    "            \n",
    "            ActionChains(driver) \\\n",
    "                .click(clickable) \\\n",
    "                .perform()\n",
    "            \n",
    "            time.sleep(1) \n",
    "            \n",
    "            ActionChains(driver)\\\n",
    "                        .send_keys(category_name)\\\n",
    "                        .perform()\n",
    "                \n",
    "            time.sleep(1)\n",
    "            \n",
    "            clickable = driver.find_element(By.ID, 'nav-search-submit-button')\n",
    "            ActionChains(driver) \\\n",
    "                .click(clickable) \\\n",
    "                .perform()\n",
    "            flag = False\n",
    "        except:\n",
    "            driver = SolveCaptcha(driver)\n",
    "\n",
    "    return driver"
   ]
  },
  {
   "cell_type": "markdown",
   "metadata": {},
   "source": [
    "## Children's books"
   ]
  },
  {
   "cell_type": "code",
   "execution_count": 98,
   "metadata": {},
   "outputs": [],
   "source": [
    "driver = Start(\"Children's Books\", \"Children's book\")"
   ]
  },
  {
   "cell_type": "code",
   "execution_count": 99,
   "metadata": {},
   "outputs": [],
   "source": [
    "for j in range(60):\n",
    "    flag = True\n",
    "    while flag:\n",
    "        try:\n",
    "            html = driver.page_source\n",
    "            soup = BeautifulSoup(html, 'html.parser')\n",
    "            for i in soup.find_all('div', {'class': 'a-section a-spacing-small puis-padding-left-small puis-padding-right-small'}):\n",
    "                title = i.find('h2', {'class': 'a-size-base-plus a-spacing-none a-color-base a-text-normal'}).find('span').text\n",
    "                try:\n",
    "                    price = i.find('span', {'class': 'a-price'}).find('span', {'class': 'a-offscreen'}).text\n",
    "                    currency = price[0]\n",
    "                    price = float(price[1::])\n",
    "                except:\n",
    "                    price = np.nan\n",
    "                    currency = np.nan\n",
    "                    price = np.nan\n",
    "                    \n",
    "                try:\n",
    "                    rating = float(i.find('a', {'class': 'a-popover-trigger a-declarative'}).get('aria-label').split()[0])\n",
    "                    num_of_rev = int(i.find('div', {'class': 's-csa-instrumentation-wrapper alf-search-csa-instrumentation-wrapper'}).find('a', {'class': 'a-link-normal s-underline-text s-underline-link-text s-link-style'}).get('aria-label').split()[0].replace(',', ''))\n",
    "                except:\n",
    "                    rating = np.nan\n",
    "                    num_of_rev = np.nan\n",
    "                if price == 0:\n",
    "                    try:\n",
    "                        price = i.find('div', {'class': 'a-section a-spacing-none a-spacing-top-mini'}).find('div', {'class': 'a-row a-size-base a-color-secondary'}).find('span').split()[1]\n",
    "                        currency = price[0]\n",
    "                        price = float(price[1::])\n",
    "                    except:\n",
    "                        price = 0     \n",
    "                \n",
    "                try:\n",
    "                    orig_price = float(i.find('span', {'class': 'a-price a-text-price'}).find('span', {'class': 'a-offscreen'}).text[1::])\n",
    "                except:\n",
    "                    orig_price = price\n",
    "                main = category_name\n",
    "                data.loc[len(data)] = [title, price, currency, rating, num_of_rev, orig_price, main]\n",
    "        \n",
    "            clickable = driver.find_elements(By.CLASS_NAME, 's-list-item-margin-right-adjustment')[-1]\n",
    "            ActionChains(driver) \\\n",
    "                .click(clickable) \\\n",
    "                .perform()\n",
    "            \n",
    "            time.sleep(3)\n",
    "            flag = True\n",
    "        except:\n",
    "            print(f'error at: {j}')\n",
    "            driver = SolveCaptcha(driver)\n",
    "            "
   ]
  },
  {
   "cell_type": "code",
   "execution_count": 100,
   "metadata": {},
   "outputs": [
    {
     "data": {
      "text/html": [
       "<div>\n",
       "<style scoped>\n",
       "    .dataframe tbody tr th:only-of-type {\n",
       "        vertical-align: middle;\n",
       "    }\n",
       "\n",
       "    .dataframe tbody tr th {\n",
       "        vertical-align: top;\n",
       "    }\n",
       "\n",
       "    .dataframe thead th {\n",
       "        text-align: right;\n",
       "    }\n",
       "</style>\n",
       "<table border=\"1\" class=\"dataframe\">\n",
       "  <thead>\n",
       "    <tr style=\"text-align: right;\">\n",
       "      <th></th>\n",
       "      <th>Title</th>\n",
       "      <th>Price</th>\n",
       "      <th>Currency</th>\n",
       "      <th>Rating</th>\n",
       "      <th>Number of reviews</th>\n",
       "      <th>Original Price</th>\n",
       "      <th>Main Genre</th>\n",
       "    </tr>\n",
       "  </thead>\n",
       "  <tbody>\n",
       "    <tr>\n",
       "      <th>0</th>\n",
       "      <td>The Martian Zoo: Blast Off in a Moon UFO for a...</td>\n",
       "      <td>0.00</td>\n",
       "      <td>$</td>\n",
       "      <td>5.0</td>\n",
       "      <td>12.0</td>\n",
       "      <td>0.00</td>\n",
       "      <td>Children's book</td>\n",
       "    </tr>\n",
       "    <tr>\n",
       "      <th>1</th>\n",
       "      <td>Sundays with Grandma</td>\n",
       "      <td>20.99</td>\n",
       "      <td>$</td>\n",
       "      <td>NaN</td>\n",
       "      <td>NaN</td>\n",
       "      <td>20.99</td>\n",
       "      <td>Children's book</td>\n",
       "    </tr>\n",
       "    <tr>\n",
       "      <th>2</th>\n",
       "      <td>The Magical Unicorn Coloring Book: Bella Affir...</td>\n",
       "      <td>5.95</td>\n",
       "      <td>$</td>\n",
       "      <td>NaN</td>\n",
       "      <td>NaN</td>\n",
       "      <td>5.95</td>\n",
       "      <td>Children's book</td>\n",
       "    </tr>\n",
       "    <tr>\n",
       "      <th>3</th>\n",
       "      <td>I Love You to the Moon and Back</td>\n",
       "      <td>4.92</td>\n",
       "      <td>$</td>\n",
       "      <td>4.9</td>\n",
       "      <td>77324.0</td>\n",
       "      <td>7.99</td>\n",
       "      <td>Children's book</td>\n",
       "    </tr>\n",
       "    <tr>\n",
       "      <th>4</th>\n",
       "      <td>The Rainbow Fish</td>\n",
       "      <td>5.04</td>\n",
       "      <td>$</td>\n",
       "      <td>4.8</td>\n",
       "      <td>6798.0</td>\n",
       "      <td>9.95</td>\n",
       "      <td>Children's book</td>\n",
       "    </tr>\n",
       "    <tr>\n",
       "      <th>...</th>\n",
       "      <td>...</td>\n",
       "      <td>...</td>\n",
       "      <td>...</td>\n",
       "      <td>...</td>\n",
       "      <td>...</td>\n",
       "      <td>...</td>\n",
       "      <td>...</td>\n",
       "    </tr>\n",
       "    <tr>\n",
       "      <th>1977</th>\n",
       "      <td>Strictly No Elephants (The Pet Club Series)</td>\n",
       "      <td>10.79</td>\n",
       "      <td>$</td>\n",
       "      <td>4.8</td>\n",
       "      <td>3610.0</td>\n",
       "      <td>18.99</td>\n",
       "      <td>Children's book</td>\n",
       "    </tr>\n",
       "    <tr>\n",
       "      <th>1978</th>\n",
       "      <td>Good Night, Little Blue Truck</td>\n",
       "      <td>10.77</td>\n",
       "      <td>$</td>\n",
       "      <td>4.9</td>\n",
       "      <td>16440.0</td>\n",
       "      <td>17.99</td>\n",
       "      <td>Children's book</td>\n",
       "    </tr>\n",
       "    <tr>\n",
       "      <th>1979</th>\n",
       "      <td>Good Different</td>\n",
       "      <td>16.46</td>\n",
       "      <td>$</td>\n",
       "      <td>4.8</td>\n",
       "      <td>213.0</td>\n",
       "      <td>18.99</td>\n",
       "      <td>Children's book</td>\n",
       "    </tr>\n",
       "    <tr>\n",
       "      <th>1980</th>\n",
       "      <td>Dan The Spaceman Goes To Zoomar</td>\n",
       "      <td>9.95</td>\n",
       "      <td>$</td>\n",
       "      <td>5.0</td>\n",
       "      <td>6.0</td>\n",
       "      <td>9.95</td>\n",
       "      <td>Children's book</td>\n",
       "    </tr>\n",
       "    <tr>\n",
       "      <th>1981</th>\n",
       "      <td>Gregory Tames His Temper: A Story About Anger ...</td>\n",
       "      <td>11.00</td>\n",
       "      <td>$</td>\n",
       "      <td>4.8</td>\n",
       "      <td>135.0</td>\n",
       "      <td>11.00</td>\n",
       "      <td>Children's book</td>\n",
       "    </tr>\n",
       "  </tbody>\n",
       "</table>\n",
       "<p>1982 rows × 7 columns</p>\n",
       "</div>"
      ],
      "text/plain": [
       "                                                  Title  Price Currency  \\\n",
       "0     The Martian Zoo: Blast Off in a Moon UFO for a...   0.00        $   \n",
       "1                                  Sundays with Grandma  20.99        $   \n",
       "2     The Magical Unicorn Coloring Book: Bella Affir...   5.95        $   \n",
       "3                       I Love You to the Moon and Back   4.92        $   \n",
       "4                                      The Rainbow Fish   5.04        $   \n",
       "...                                                 ...    ...      ...   \n",
       "1977        Strictly No Elephants (The Pet Club Series)  10.79        $   \n",
       "1978                      Good Night, Little Blue Truck  10.77        $   \n",
       "1979                                     Good Different  16.46        $   \n",
       "1980                    Dan The Spaceman Goes To Zoomar   9.95        $   \n",
       "1981  Gregory Tames His Temper: A Story About Anger ...  11.00        $   \n",
       "\n",
       "      Rating  Number of reviews  Original Price       Main Genre  \n",
       "0        5.0               12.0            0.00  Children's book  \n",
       "1        NaN                NaN           20.99  Children's book  \n",
       "2        NaN                NaN            5.95  Children's book  \n",
       "3        4.9            77324.0            7.99  Children's book  \n",
       "4        4.8             6798.0            9.95  Children's book  \n",
       "...      ...                ...             ...              ...  \n",
       "1977     4.8             3610.0           18.99  Children's book  \n",
       "1978     4.9            16440.0           17.99  Children's book  \n",
       "1979     4.8              213.0           18.99  Children's book  \n",
       "1980     5.0                6.0            9.95  Children's book  \n",
       "1981     4.8              135.0           11.00  Children's book  \n",
       "\n",
       "[1982 rows x 7 columns]"
      ]
     },
     "execution_count": 100,
     "metadata": {},
     "output_type": "execute_result"
    }
   ],
   "source": [
    "data"
   ]
  },
  {
   "cell_type": "code",
   "execution_count": 101,
   "metadata": {},
   "outputs": [],
   "source": [
    "driver.quit()"
   ]
  },
  {
   "cell_type": "code",
   "execution_count": 102,
   "metadata": {},
   "outputs": [],
   "source": [
    "def Scrape(n, driver):\n",
    "    for j in range(n):\n",
    "        flag = True\n",
    "        while flag:\n",
    "            try:\n",
    "                html = driver.page_source\n",
    "                soup = BeautifulSoup(html, 'html.parser')\n",
    "                for i in soup.find_all('div', {'class': 'a-section a-spacing-small a-spacing-top-small'}):\n",
    "                    title = i.find('h2', {'class': 'a-size-medium a-spacing-none a-color-base a-text-normal'}).find('span').text\n",
    "                    try:\n",
    "                        price = i.find('span', {'class': 'a-price'}).find('span', {'class': 'a-offscreen'}).text\n",
    "                        currency = price[0]\n",
    "                        price = float(price[1::])\n",
    "                    except:\n",
    "                        price = np.nan\n",
    "                        currency = np.nan\n",
    "                        price = np.nan\n",
    "                        \n",
    "                    try:\n",
    "                        rating = float(i.find('a', {'class': 'a-popover-trigger a-declarative'}).get('aria-label').split()[0])\n",
    "                        num_of_rev = int(i.find('div', {'class': 's-csa-instrumentation-wrapper alf-search-csa-instrumentation-wrapper'}).find('a', {'class': 'a-link-normal s-underline-text s-underline-link-text s-link-style'}).get('aria-label').split()[0].replace(',', ''))\n",
    "                    except:\n",
    "                        rating = np.nan\n",
    "                        num_of_rev = np.nan\n",
    "                    if price == 0:\n",
    "                        try:\n",
    "                            price = i.find('div', {'class': 'a-section a-spacing-none a-spacing-top-mini'}).find('div', {'class': 'a-row a-size-base a-color-secondary'}).find('span').split()[1]\n",
    "                            currency = price[0]\n",
    "                            price = float(price[1::])\n",
    "                        except:\n",
    "                            price = 0     \n",
    "                    \n",
    "                    try:\n",
    "                        orig_price = float(i.find('span', {'class': 'a-price a-text-price'}).find('span', {'class': 'a-offscreen'}).text[1::])\n",
    "                    except:\n",
    "                        orig_price = price\n",
    "                    main = category_name\n",
    "                    data.loc[len(data)] = [title, price, currency, rating, num_of_rev, orig_price, main]\n",
    "            \n",
    "                clickable = driver.find_elements(By.CLASS_NAME, 's-list-item-margin-right-adjustment')[-1]\n",
    "                ActionChains(driver) \\\n",
    "                    .click(clickable) \\\n",
    "                    .perform()\n",
    "                \n",
    "                time.sleep(3)\n",
    "                flag = False\n",
    "            except:\n",
    "                driver = SolveCaptcha(driver)\n",
    "    return driver"
   ]
  },
  {
   "cell_type": "code",
   "execution_count": 103,
   "metadata": {},
   "outputs": [],
   "source": [
    "fiction_categories = [\n",
    "    \"Comics & Manga\",\n",
    "    \"Literature & Fiction\",\n",
    "    \"Mystery, Thriller & Suspense\",\n",
    "    \"Romance\",\n",
    "    \"Science Fiction & Fantasy\",\n",
    "    \"Teen & Young Adult\"\n",
    "]\n",
    "\n",
    "nonfiction_categories = [\n",
    "    \"Arts & Photography\",\n",
    "    \"Biographies & Memoirs\",\n",
    "    \"Business & Money\",\n",
    "    \"Calendars\",\n",
    "    \"Computers & Technology\",\n",
    "    \"Cookbooks, Food & Wine\",\n",
    "    \"Crafts, Hobbies & Home\",\n",
    "    \"Education & Teaching\",\n",
    "    \"Engineering & Transportation\",\n",
    "    \"Health, Fitness & Dieting\",\n",
    "    \"History\",\n",
    "    \"Humor & Entertainment\",\n",
    "    \"Law\",\n",
    "    \"Medical Books\",\n",
    "    \"Parenting & Relationships\",\n",
    "    \"Politics & Social Sciences\",\n",
    "    \"Reference\",\n",
    "    \"Religion & Spirituality\",\n",
    "    \"Science & Math\",\n",
    "    \"Self-help\",\n",
    "    \"Sports & Outdoors\",\n",
    "    \"Travel\"\n",
    "]"
   ]
  },
  {
   "cell_type": "code",
   "execution_count": 104,
   "metadata": {},
   "outputs": [
    {
     "name": "stdout",
     "output_type": "stream",
     "text": [
      "error at: 50\n"
     ]
    },
    {
     "ename": "NoSuchElementException",
     "evalue": "Message: no such element: Unable to locate element: {\"method\":\"css selector\",\"selector\":\"[id=\"nav-global-location-popover-link\"]\"}\n  (Session info: chrome=133.0.6943.142); For documentation on this error, please visit: https://www.selenium.dev/documentation/webdriver/troubleshooting/errors#no-such-element-exception\nStacktrace:\n\tGetHandleVerifier [0x00007FF64BDFC6A5+28789]\n\t(No symbol) [0x00007FF64BD65B20]\n\t(No symbol) [0x00007FF64BBF8F9A]\n\t(No symbol) [0x00007FF64BC4F346]\n\t(No symbol) [0x00007FF64BC4F57C]\n\t(No symbol) [0x00007FF64BCA2B17]\n\t(No symbol) [0x00007FF64BC7736F]\n\t(No symbol) [0x00007FF64BC9F7E3]\n\t(No symbol) [0x00007FF64BC77103]\n\t(No symbol) [0x00007FF64BC3FFC0]\n\t(No symbol) [0x00007FF64BC41273]\n\tGetHandleVerifier [0x00007FF64C141AED+3458237]\n\tGetHandleVerifier [0x00007FF64C15829C+3550316]\n\tGetHandleVerifier [0x00007FF64C14DB9D+3507565]\n\tGetHandleVerifier [0x00007FF64BEC2C6A+841274]\n\t(No symbol) [0x00007FF64BD709EF]\n\t(No symbol) [0x00007FF64BD6CB34]\n\t(No symbol) [0x00007FF64BD6CCD6]\n\t(No symbol) [0x00007FF64BD5C119]\n\tBaseThreadInitThunk [0x00007FFD7666257D+29]\n\tRtlUserThreadStart [0x00007FFD773AAA78+40]\n",
     "output_type": "error",
     "traceback": [
      "\u001b[1;31m---------------------------------------------------------------------------\u001b[0m",
      "\u001b[1;31mNoSuchElementException\u001b[0m                    Traceback (most recent call last)",
      "Cell \u001b[1;32mIn[104], line 2\u001b[0m\n\u001b[0;32m      1\u001b[0m \u001b[38;5;28;01mfor\u001b[39;00m categ \u001b[38;5;129;01min\u001b[39;00m (fiction_categories \u001b[38;5;241m+\u001b[39m nonfiction_categories):\n\u001b[1;32m----> 2\u001b[0m     driver \u001b[38;5;241m=\u001b[39m Start(\u001b[38;5;124m\"\u001b[39m\u001b[38;5;124mBooks\u001b[39m\u001b[38;5;124m\"\u001b[39m, categ)\n\u001b[0;32m      3\u001b[0m     driver \u001b[38;5;241m=\u001b[39m Scrape(\u001b[38;5;241m60\u001b[39m, driver)\n\u001b[0;32m      4\u001b[0m     driver\u001b[38;5;241m.\u001b[39mquit()\n",
      "Cell \u001b[1;32mIn[97], line 10\u001b[0m, in \u001b[0;36mStart\u001b[1;34m(c, category_name)\u001b[0m\n\u001b[0;32m      6\u001b[0m driver\u001b[38;5;241m.\u001b[39mget(url)\n\u001b[0;32m      8\u001b[0m time\u001b[38;5;241m.\u001b[39msleep(\u001b[38;5;241m2\u001b[39m)\n\u001b[1;32m---> 10\u001b[0m SetCountry(driver)\n\u001b[0;32m     11\u001b[0m driver\u001b[38;5;241m.\u001b[39mrefresh()\n\u001b[0;32m     12\u001b[0m time\u001b[38;5;241m.\u001b[39msleep(\u001b[38;5;241m5\u001b[39m)\n",
      "Cell \u001b[1;32mIn[86], line 2\u001b[0m, in \u001b[0;36mSetCountry\u001b[1;34m(driver)\u001b[0m\n\u001b[0;32m      1\u001b[0m \u001b[38;5;28;01mdef\u001b[39;00m \u001b[38;5;21mSetCountry\u001b[39m(driver):\n\u001b[1;32m----> 2\u001b[0m     clickable \u001b[38;5;241m=\u001b[39m driver\u001b[38;5;241m.\u001b[39mfind_element(By\u001b[38;5;241m.\u001b[39mID, \u001b[38;5;124m'\u001b[39m\u001b[38;5;124mnav-global-location-popover-link\u001b[39m\u001b[38;5;124m'\u001b[39m)\n\u001b[0;32m      3\u001b[0m     ActionChains(driver) \\\n\u001b[0;32m      4\u001b[0m         \u001b[38;5;241m.\u001b[39mclick(clickable) \\\n\u001b[0;32m      5\u001b[0m         \u001b[38;5;241m.\u001b[39mperform()\n\u001b[0;32m      7\u001b[0m     time\u001b[38;5;241m.\u001b[39msleep(\u001b[38;5;241m1\u001b[39m)\n",
      "File \u001b[1;32m~\\AppData\\Roaming\\Python\\Python312\\site-packages\\selenium\\webdriver\\remote\\webdriver.py:898\u001b[0m, in \u001b[0;36mWebDriver.find_element\u001b[1;34m(self, by, value)\u001b[0m\n\u001b[0;32m    895\u001b[0m         \u001b[38;5;28;01mraise\u001b[39;00m NoSuchElementException(\u001b[38;5;124mf\u001b[39m\u001b[38;5;124m\"\u001b[39m\u001b[38;5;124mCannot locate relative element with: \u001b[39m\u001b[38;5;132;01m{\u001b[39;00mby\u001b[38;5;241m.\u001b[39mroot\u001b[38;5;132;01m}\u001b[39;00m\u001b[38;5;124m\"\u001b[39m)\n\u001b[0;32m    896\u001b[0m     \u001b[38;5;28;01mreturn\u001b[39;00m elements[\u001b[38;5;241m0\u001b[39m]\n\u001b[1;32m--> 898\u001b[0m \u001b[38;5;28;01mreturn\u001b[39;00m \u001b[38;5;28mself\u001b[39m\u001b[38;5;241m.\u001b[39mexecute(Command\u001b[38;5;241m.\u001b[39mFIND_ELEMENT, {\u001b[38;5;124m\"\u001b[39m\u001b[38;5;124musing\u001b[39m\u001b[38;5;124m\"\u001b[39m: by, \u001b[38;5;124m\"\u001b[39m\u001b[38;5;124mvalue\u001b[39m\u001b[38;5;124m\"\u001b[39m: value})[\u001b[38;5;124m\"\u001b[39m\u001b[38;5;124mvalue\u001b[39m\u001b[38;5;124m\"\u001b[39m]\n",
      "File \u001b[1;32m~\\AppData\\Roaming\\Python\\Python312\\site-packages\\selenium\\webdriver\\remote\\webdriver.py:429\u001b[0m, in \u001b[0;36mWebDriver.execute\u001b[1;34m(self, driver_command, params)\u001b[0m\n\u001b[0;32m    427\u001b[0m response \u001b[38;5;241m=\u001b[39m \u001b[38;5;28mself\u001b[39m\u001b[38;5;241m.\u001b[39mcommand_executor\u001b[38;5;241m.\u001b[39mexecute(driver_command, params)\n\u001b[0;32m    428\u001b[0m \u001b[38;5;28;01mif\u001b[39;00m response:\n\u001b[1;32m--> 429\u001b[0m     \u001b[38;5;28mself\u001b[39m\u001b[38;5;241m.\u001b[39merror_handler\u001b[38;5;241m.\u001b[39mcheck_response(response)\n\u001b[0;32m    430\u001b[0m     response[\u001b[38;5;124m\"\u001b[39m\u001b[38;5;124mvalue\u001b[39m\u001b[38;5;124m\"\u001b[39m] \u001b[38;5;241m=\u001b[39m \u001b[38;5;28mself\u001b[39m\u001b[38;5;241m.\u001b[39m_unwrap_value(response\u001b[38;5;241m.\u001b[39mget(\u001b[38;5;124m\"\u001b[39m\u001b[38;5;124mvalue\u001b[39m\u001b[38;5;124m\"\u001b[39m, \u001b[38;5;28;01mNone\u001b[39;00m))\n\u001b[0;32m    431\u001b[0m     \u001b[38;5;28;01mreturn\u001b[39;00m response\n",
      "File \u001b[1;32m~\\AppData\\Roaming\\Python\\Python312\\site-packages\\selenium\\webdriver\\remote\\errorhandler.py:232\u001b[0m, in \u001b[0;36mErrorHandler.check_response\u001b[1;34m(self, response)\u001b[0m\n\u001b[0;32m    230\u001b[0m         alert_text \u001b[38;5;241m=\u001b[39m value[\u001b[38;5;124m\"\u001b[39m\u001b[38;5;124malert\u001b[39m\u001b[38;5;124m\"\u001b[39m]\u001b[38;5;241m.\u001b[39mget(\u001b[38;5;124m\"\u001b[39m\u001b[38;5;124mtext\u001b[39m\u001b[38;5;124m\"\u001b[39m)\n\u001b[0;32m    231\u001b[0m     \u001b[38;5;28;01mraise\u001b[39;00m exception_class(message, screen, stacktrace, alert_text)  \u001b[38;5;66;03m# type: ignore[call-arg]  # mypy is not smart enough here\u001b[39;00m\n\u001b[1;32m--> 232\u001b[0m \u001b[38;5;28;01mraise\u001b[39;00m exception_class(message, screen, stacktrace)\n",
      "\u001b[1;31mNoSuchElementException\u001b[0m: Message: no such element: Unable to locate element: {\"method\":\"css selector\",\"selector\":\"[id=\"nav-global-location-popover-link\"]\"}\n  (Session info: chrome=133.0.6943.142); For documentation on this error, please visit: https://www.selenium.dev/documentation/webdriver/troubleshooting/errors#no-such-element-exception\nStacktrace:\n\tGetHandleVerifier [0x00007FF64BDFC6A5+28789]\n\t(No symbol) [0x00007FF64BD65B20]\n\t(No symbol) [0x00007FF64BBF8F9A]\n\t(No symbol) [0x00007FF64BC4F346]\n\t(No symbol) [0x00007FF64BC4F57C]\n\t(No symbol) [0x00007FF64BCA2B17]\n\t(No symbol) [0x00007FF64BC7736F]\n\t(No symbol) [0x00007FF64BC9F7E3]\n\t(No symbol) [0x00007FF64BC77103]\n\t(No symbol) [0x00007FF64BC3FFC0]\n\t(No symbol) [0x00007FF64BC41273]\n\tGetHandleVerifier [0x00007FF64C141AED+3458237]\n\tGetHandleVerifier [0x00007FF64C15829C+3550316]\n\tGetHandleVerifier [0x00007FF64C14DB9D+3507565]\n\tGetHandleVerifier [0x00007FF64BEC2C6A+841274]\n\t(No symbol) [0x00007FF64BD709EF]\n\t(No symbol) [0x00007FF64BD6CB34]\n\t(No symbol) [0x00007FF64BD6CCD6]\n\t(No symbol) [0x00007FF64BD5C119]\n\tBaseThreadInitThunk [0x00007FFD7666257D+29]\n\tRtlUserThreadStart [0x00007FFD773AAA78+40]\n"
     ]
    }
   ],
   "source": [
    "for categ in (fiction_categories + nonfiction_categories):\n",
    "    driver = Start(\"Books\", categ)\n",
    "    driver = Scrape(60, driver)\n",
    "    driver.quit()"
   ]
  },
  {
   "cell_type": "code",
   "execution_count": null,
   "metadata": {},
   "outputs": [],
   "source": [
    "data"
   ]
  },
  {
   "cell_type": "code",
   "execution_count": null,
   "metadata": {},
   "outputs": [],
   "source": [
    "data.to_csv('All_added_books_data_temp.csv')"
   ]
  }
 ],
 "metadata": {
  "colab": {
   "provenance": []
  },
  "kernelspec": {
   "display_name": "Python 3 (ipykernel)",
   "language": "python",
   "name": "python3"
  },
  "language_info": {
   "codemirror_mode": {
    "name": "ipython",
    "version": 3
   },
   "file_extension": ".py",
   "mimetype": "text/x-python",
   "name": "python",
   "nbconvert_exporter": "python",
   "pygments_lexer": "ipython3",
   "version": "3.12.7"
  }
 },
 "nbformat": 4,
 "nbformat_minor": 4
}
