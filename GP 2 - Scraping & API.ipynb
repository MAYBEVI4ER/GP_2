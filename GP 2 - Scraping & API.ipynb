{
 "cells": [
  {
   "cell_type": "markdown",
   "metadata": {
    "id": "f1gL2DEfNRGu"
   },
   "source": [
    "# Современные методы анализа данных и машинного обучения, БИ\n",
    "\n",
    "## НИУ ВШЭ, 2024-25 учебный год"
   ]
  },
  {
   "cell_type": "markdown",
   "metadata": {
    "id": "fdTH3pxXFLxw"
   },
   "source": [
    "## Групповой проект №2. DE: Scraping & API"
   ]
  },
  {
   "cell_type": "markdown",
   "metadata": {
    "id": "kqVyveO4FLxx"
   },
   "source": [
    "## Общая информация"
   ]
  },
  {
   "cell_type": "markdown",
   "metadata": {
    "id": "2A0wmBWwFLxx"
   },
   "source": [
    "__Дата выдачи:__ 21.02.2025\n",
    "\n",
    "__Защита проекта:__ 05.03.2025"
   ]
  },
  {
   "cell_type": "markdown",
   "metadata": {
    "id": "c3WPv6hp7hNJ"
   },
   "source": [
    "## Формат выполнения"
   ]
  },
  {
   "cell_type": "markdown",
   "metadata": {
    "id": "G119PlyX7hNS"
   },
   "source": [
    "Групповой проект представляет собой творческое инициативное групповое задание, которое выполняется студентами в командах от 3 до 6 человек. В то же время, следует помнить, что чем больше в команде людей, тем выше предъявляются требования в целом к команде, а также к выполняему ею проекту. Команды разрешается формировать из студентов разных групп.\n",
    "\n",
    "При оценивании результатов выполнения проекта командой, в обязательном порядке проверяется и учитывается в оценке вклад ***каждого участника*** в общую работу команды. Вследствие этого, крайне важно ответственно подойти к выбору сокомандников, распределению обязанностей внутри команды, а также пресечению наличия \"мертвых душ\" в команде.\n",
    "\n",
    "При необходимости, команда большинством голосов имеет право исключить человека из команды *до защиты проекта*, сообщив об этом преподавателю, в случае если такой человек никак не проявлялся в ходе выполнения проекта и являлся как раз таки той самой \"мертвой душой\". Помните про эту возможность, поскольку наличие \"мертвых душ\" может негативно повлиять на качество и оценку для всего проекта и, как следствие, в целом для всей команды!\n",
    "\n",
    "Запись составов команд осуществляется по ссылке в таблице:\n",
    "\n",
    "https://docs.google.com/spreadsheets/d/1aUFah0NgORUzjMoA6QxKt7OyVN5djf1Vvq3vB1bbx8k/edit?usp=sharing"
   ]
  },
  {
   "cell_type": "markdown",
   "metadata": {
    "id": "qK8Ari9eFLxz"
   },
   "source": [
    "## Оценивание и штрафы\n",
    "\n"
   ]
  },
  {
   "cell_type": "markdown",
   "metadata": {
    "id": "QGLPrtP8M51y"
   },
   "source": [
    "Групповой проект оценивается исходя из устной защиты (презентации) командой выполненного ими проекта перед комиссией. Комиссия составляется из преподавателей курса, ассистентов курса, а также приглашенных экспертов из индустрии.\n",
    "\n",
    "В рамках каждой защиты комиссия выставляет два типа оценок.\n",
    "\n",
    "Первая оценка — это оценка для всего проекта в целом. Она ставится комиссией, исходя из глубины проработки командой предметной области, сложности применяемых в проекте инструментов, а также прочих аспектов, связанных с содержанием выполняемого в проекте ТЗ. При выставлении этой оценки комиссия ориентируется на критерии, более подробно представленные ниже в разделе \"Критерии оценки проекта\".\n",
    "\n",
    "Вторая оценка — это индивидуальная оценка каждого участника команды. Именно эта оценка выставляется впоследствии в ведомость. Индивидуальная оценка участника команды определяется комиссией, исходя из того, насколько участник ориентируется в выполненном командой проекте, как он отвечает на адресованные персонально ему вопросы комиссии, насколько в принципе прослеживается его роль в проекте, а также исходя из других аспектов, связанных с участием конкретного человека в деятельности команды. Индивидуальная оценка не может превосходить оценку команды за проект в целом (первую оценку), однако, в случае когда участник спокойно и корректно отвечает на все адресованные ему вопросы, свободно ориентируется в материале и содержании выполненного проекта, а также когда его роль в работе команды не вызывает сомнений, — в таком случае, индивидуальная оценка участника становится равной оценке для всего проекта (т.е. в идеальном случае — вторая оценка равна первой оценке). Кроме того, в исключительных случаях, при демонстрации участником на защите превосходящих ожидания уровней понимания, участия и вовлечения в рамках проекта, комиссия может своим решением повысить индивидуальную оценку для этого участника на 0,5 или 1 балл относительно общей оценки за проект (первой оценки).\n",
    "\n",
    "Во избежание субъективности и/или предвзятости оценки тех или иных членов комиссии в отношении тех или иных команд, а также каких-либо иных проявлений неравных условий — распределение команд между комиссиями осуществляется абсолютно рандомно с использованием средств библиотеки Numpy :)) — в качестве рэндом сида выступает дата, в которую производится распределение, например, `np.random.seed(21022025)`.\n",
    "\n",
    "Обратите, пожалуйста, внимание на то, что бОльшая часть комиссий осуществляет приём проектов в очной форме, однако могут присутствовать и 1-2 комиссии, которые будут работать дистанционно с использованием средств видеосвязи. В случае попадания команды путем случайного распределения в комиссию, работающую в очной форме, *не допускается* какое-либо изменение формата проведения для команды на онлайн-режим, равно как и любые другие перемещения команд между комиссиями (смены комиссий), для сохранения честности и непредвзятости случайного распределения.\n",
    "\n",
    "Явка студента на защиту проекта является обязательной; вклад студента без его присутствия не оценивается и автоматически является равным нулю. Для дистанционных комиссий, дополнительным требованием является обязательное наличие включенной камеры в течение всего времени нахождения в конференции"
   ]
  },
  {
   "cell_type": "markdown",
   "metadata": {
    "id": "zNja-u8vFLx0"
   },
   "source": [
    "## Описание задания"
   ]
  },
  {
   "cell_type": "markdown",
   "metadata": {
    "id": "JYeFv80TV21w"
   },
   "source": [
    "В современном мире данных эффективный сбор и интеграция информации из различных источников являются фундаментом для принятия обоснованных решений и успешного ведения бизнеса. Компании, стремясь к конкурентоспособности, активно используют технологии веб-скрапинга и взаимодействия с API для автоматизации процесса сбора данных, обеспечения их актуальности и полноты.\n",
    "\n",
    "В данном проекте вы на реальных данных попрактикуетесь в том, как осуществляется веб-скрапинг различных сайтов для извлечения необходимой информации, а также в работе с API популярных сервисов для получения структурированных данных. Вы научитесь применять современные инструменты и библиотеки, отражающие различные этапы DE, обрабатывать и очищать полученную информацию, а также интегрировать данные из различных источников для последующего использования их в аналитических и бизнес-задачах.\n",
    "\n"
   ]
  },
  {
   "cell_type": "markdown",
   "metadata": {
    "id": "gMo29nogPpDI"
   },
   "source": [
    "### Постановка задачи"
   ]
  },
  {
   "cell_type": "markdown",
   "metadata": {
    "id": "YyNqz9hPPrIE"
   },
   "source": [
    "В рамках этого проекта вы сами найдете датасет, с которым будете работать. Точнее, не найдете, а... соберёте его самостоятельно на основе источников!\n",
    "\n",
    "Итак, начните с того, что выберите два сайта/портала со схожей тематикой (например, NYT и Bloomberg). Их тематика должна позволять в дальнейшем объединить данные в единую таблицу. Один из этих двух сайтов нужно будет обработать с помощью средств Web-Scraping'a и Data Parsing'a; другой же — используя API.\n",
    "\n",
    "Определившись с источниками, непосредственно проделайте скачивание данных путём скрейпинга и методами API соответственно и затем объедините всё в финальный датасет. Обязательным требованием к датасету является также наличие в нём как минимум одного столбца с текстовыми данными: описание, состав, комментарии о чём-либо, текст заметки/новости, или что-то ещё.\n",
    "\n",
    "Кроме того, разумеется, следует помнить, что полученный датасет должен, конечно, быть осмысленным с бизнес-точки зрения и потенциально позволять решать какую-то конкретную бизнес-задачу. Это как минимум означает, что каждому объекту, имеющему своё признаковое пространство — в том числе с текстовым признаком, — должно также соответствовать значение некоторой целевой переменной, которая является релевантной в рамках выбранной вами предметной области.\n",
    "\n",
    "\n"
   ]
  },
  {
   "cell_type": "markdown",
   "metadata": {
    "id": "9iaXs89vRb1e"
   },
   "source": [
    "Примеры задач, которые мы можем предложить вам в качестве источника для вдохновения — пожалуйста, ни в коем случае не воспринимайте это как исчерпывающий список — это действительно всего лишь примеры:\n",
    "\n",
    "* Сайт новостей: текстовый столбец — сама новость; признаки — различные характеристики новости: автор, дата публикации, тип новости и т.д.; целевая переменная — количество просмотров новости (можно поделить на число дней с момента даты публикации, чтобы получить «среднее число просмотров в день», что ещё нагляднее)\n",
    "\n",
    "* Сайт с товарами/книгами/фильмами: текстовый столбец — описание товара/книги/фильма; признаки — различные характеристики объекта: цена, год производства/выпуска, компания-производитель и т.д.; целевая переменная — средний рейтинг объекта\n",
    "\n",
    "* Блоги: текстовый столбец — тексты заметок; признаки — различные характеристики заметки: автор, время публикации, количество прикрепленных изображений и т.д.; целевая переменная — число просмотров\n",
    "\n",
    "* И любые другие ваши идеи, которые подходят под описанный выше формат"
   ]
  },
  {
   "cell_type": "markdown",
   "metadata": {
    "id": "VRotK-nXRsGn"
   },
   "source": [
    "После сбора данных и объединения их в общий датасет, необходимо очистить его от мусора (в том числе, например, с помощью регулярных выражений); посчитать различные статистики по собранным данным (в случае если столбец текстовый, то, например, посчитать частотности слов, выявляя наиболее частотные слова, и т.д.); а также в целом провести EDA в контексте той бизнес-задачи, которую мы потенциально хотим решить по полученному датасету. В конце сделать выводы из проделанной работы."
   ]
  },
  {
   "cell_type": "markdown",
   "metadata": {
    "id": "jw2I5j46xsrG"
   },
   "source": [
    "### Этапы проекта"
   ]
  },
  {
   "cell_type": "markdown",
   "metadata": {
    "id": "kO_bjLfWxvdV"
   },
   "source": [
    "Ниже для вашего удобства еще раз в краткой форме представляем примерные этапы реализации проекта:\n",
    "\n",
    "- Выбор источников данных, в соответствии с требованиями, описанными выше\n",
    "- Формулировка бизнес-задачи, которую могла бы хотеть решить компания/платформа, на основе собираемых данных\n",
    "- Обоснование сформулированной бизнес-задачи\n",
    "- Извлечение данных путём работы с API\n",
    "- Извлечение данных путём скрапинга и парсинга\n",
    "- Первичная обработка данных (EDA)\n",
    "- Получение и агрегация результатов, финальные выводы"
   ]
  },
  {
   "cell_type": "markdown",
   "metadata": {
    "id": "Yf_5kM7K6XPn"
   },
   "source": [
    "### Общие требования к проекту"
   ]
  },
  {
   "cell_type": "markdown",
   "metadata": {
    "id": "coqxjUJY4D4B"
   },
   "source": [
    "В качестве результата выполнения группового проекта ваша команда должна получить презентацию, а также репозиторий с кодом на GitHub. Демонстрация репозитория и защита презентации перед комиссией осуществляется в фиксированную дату.\n",
    "\n",
    "Оформление презентации остаётся полностью на ваше усмотрение, но помните, что результат должен быть релевантен для демонстрации бизнес-заказчику — комиссию, принимающую вашу работу, правильнее всего воспринимать именно в таком качестве. Например, вставлять в презентацию строчки кода или злоупотреблять скринами блокнота не рекомендуется.\n",
    "\n",
    "С точки зрения концепции выполнения проекта — вам необходимо принять на себя роль дата-инженеров: продумать идеологию получения и извлечения данных с платформы — и дата-аналитиков: соотнести бизнес-задачу с формулировками на языке данных и извлечь полезные инсайты из проделанной работы. А в конце, конечно, — презентовать всю эту красоту в понятном виде потенциальному заказчику.\n",
    "\n",
    "Разумеется, чем сложнее и чем нетривиальнее будет ваша задача, а также чем глубже и чем осмысленнее будут выводы, извлечённые в рамках этой задачи, — тем выше окажется качество вашего проекта и тем выше он будет оценён!\n"
   ]
  },
  {
   "cell_type": "markdown",
   "metadata": {
    "id": "BIMqig8J-cWl"
   },
   "source": [
    "### Полезные замечания и советы"
   ]
  },
  {
   "cell_type": "markdown",
   "metadata": {
    "id": "myYUHrtD-gcj"
   },
   "source": [
    "- Графики и визуализации — это очень хорошо — все любят графики\n",
    "- Следите за тем, чтобы все графики на слайдах можно было прочитать даже без ваших комментариев\n",
    "- Не нужно делать просто текстовые слайды\n",
    "- Стройте свой проект, исходя из того, что ваша цель представить полезную информацию для бизнеса\n",
    "- Любой хороший Data Scientist должен уметь работать в команде, поэтому распределение ваших усилий в проекте остается за вами"
   ]
  },
  {
   "cell_type": "markdown",
   "metadata": {
    "id": "vVNkvwUpQ29a"
   },
   "source": [
    "### Технические требования"
   ]
  },
  {
   "cell_type": "markdown",
   "metadata": {
    "id": "xzVkvsfiRAMi"
   },
   "source": [
    "Ниже чуть более детализированно будут представлены минимальные технические требования по всем основным этапам и составным частям выполняемого вами группового проекта."
   ]
  },
  {
   "cell_type": "markdown",
   "metadata": {
    "id": "wqiq25koghg4"
   },
   "source": [
    "#### Обязательный сбор данных через API"
   ]
  },
  {
   "cell_type": "markdown",
   "metadata": {
    "id": "j4qH0SBNgmJs"
   },
   "source": [
    "* Необходимо реализовать сбор данных через API для как минимум одного веб-сайта\n",
    "* При формировании датасета должно осуществляться **не менее 5** различных запросов к API\n",
    "* Данный этап является обязательным, что означает, что без его полного выполнения ***нельзя получить оценку за проект выше 1***\n"
   ]
  },
  {
   "cell_type": "markdown",
   "metadata": {
    "id": "rgOAXjwMg1y3"
   },
   "source": [
    "#### Обязательный сбор данных посредством скрапинга"
   ]
  },
  {
   "cell_type": "markdown",
   "metadata": {
    "id": "Hw8T5Maig8NC"
   },
   "source": [
    "* Необходимо реализовать сбор и парсинг данных через библиотеки `requests` / `bs4` и другие рассмотренные в рамках семинара для как минимум одного веб-сайта, отличного от веб-сайта из предыдущего пункта\n",
    "* Получившийся датасет должен содержать **не менее 10 000** записей\n",
    "* Данный этап является обязательным, что означает, что без его полного выполнения ***нельзя получить оценку за проект выше 1***"
   ]
  },
  {
   "cell_type": "markdown",
   "metadata": {
    "id": "PZjO7mB-h20v"
   },
   "source": [
    "#### Разведочный анализ данных (EDA)"
   ]
  },
  {
   "cell_type": "markdown",
   "metadata": {
    "id": "IrRFEOlBh9g-"
   },
   "source": [
    "* Изучить особенности данных в рамках объединённого датасета:\n",
    "  * Есть ли пропущенные значения? Сколько? Какова их доля от общего числа объектов для каждого конкретного признака? И, в целом, насколько ваш датасет “разрежен” в контексте пропущенных значений? Выдвинуть и (желательно) проверить гипотезу, что могут означать пропущенные значения? Осмысленно и аргументированно обработать пропуски.\n",
    "  * Есть ли ошибочные  (например, отрицательный возраст или пятиметровый рост человека; 3-й класс в задаче бинарной классификации) значения (признаки, целевая переменная) в данных? Обработать их.\n",
    "  * Есть ли выбросы в данных? По возможности обработать их.\n",
    "* Изучить поведение каждого признака в отдельности, его связь с целевой переменной, а также попарные корреляции (в том числе и в особенности с таргетом). Визуализировать попарные распределения признаков и корреляции наиболее значимых.\n",
    "* Построить подходящие сводные таблицы и прочие диаграммы.\n",
    "* Если проведенный вами анализ позволяет сделать какие-либо выводы, постараться сформулировать их максимально глубоко и развернуто. Упомянуть, как можно задействовать в дальнейшем приобретенные вами на этом этапе знания в решаемой задаче.\n",
    "* Осуществить и другие осмысленные действия в рамках процесса EDA.\n"
   ]
  },
  {
   "cell_type": "markdown",
   "metadata": {
    "id": "kXQoZKXnS_kj"
   },
   "source": [
    "#### GitHub и требования при использовании СКВ"
   ]
  },
  {
   "cell_type": "markdown",
   "metadata": {
    "id": "VUobb1cEUlpB"
   },
   "source": [
    "*   Для выполнения задания вы должны создать проект на GitHub (один репозиторий на всю команду!)\n",
    "*   Необходимо добавить в репозиторий `.gitignore` и не грузить в репозиторий лишние файлы\n",
    "*   Необходимо добавить в репозиторий `README.md` с подробным описанием проекта. В этот файл также необходимо добавить подробное описание данных — описание признаков, их тип, количество объектов каждого класса (в задачах классификации), информацию о пропущенных значениях (в т.ч о типичных филлерах, если это не `nan`). Также добавляйте другие релевантные вашей задачи описательные характеристики данных. После чтения этого файла у человека со стороны не должно остаться никаких вопросов про данные\n",
    "*   В репозитории проекта размещаются ноутбуки / скрипты со сбором данных\n",
    "*   Коммиты делаются осмысленно, с понятными внешнему наблюдателю комментариями — что было сделано по факту\n",
    "*   При разработке необходимо соблюдать [гитфлоу](https://www.umgum.com/gitlab-workflow)"
   ]
  },
  {
   "cell_type": "markdown",
   "metadata": {
    "id": "LQSfM5wXkaV_"
   },
   "source": [
    "#### Артефакты по окончании работы над проектом"
   ]
  },
  {
   "cell_type": "markdown",
   "metadata": {
    "id": "6g9-UE3skdOw"
   },
   "source": [
    "* Ноутбуки / скрипты со сбором и извлечением данных\n",
    "* Ноутбуки c осуществлением EDA\n",
    "* Файл `.gitignore`\n",
    "* Заполненный файл `README.md` в репозитории проекта на гитхабе со ссылкой на данные и их подробным описанием, с выводами о проведенном EDA\n",
    "\n"
   ]
  },
  {
   "cell_type": "markdown",
   "metadata": {
    "id": "IOAMSmAyVs-w"
   },
   "source": [
    "#### Логирование"
   ]
  },
  {
   "cell_type": "markdown",
   "metadata": {
    "id": "ACU-GJX4VzCM"
   },
   "source": [
    "* Для получения высоких баллов добавьте в ваш проект логирование. Потренируйтесь включать и выключать его через файл настроек, а также задавать уровень логирования через этот же файл (не в приложении)\n",
    "* Запустите ваш код, чтобы сохранился файл с логами\n",
    "* Про логи можно почитать [тут](https://habr.com/ru/companies/wunderfund/articles/683880/) и [тут](https://tproger.ru/articles/shpargalka-po-logirovaniju-na-python)  "
   ]
  },
  {
   "cell_type": "markdown",
   "metadata": {
    "id": "HeMwqtMoWOZy"
   },
   "source": [
    "#### Библиотека Selenium"
   ]
  },
  {
   "cell_type": "markdown",
   "metadata": {
    "id": "Vmr095KHWPgn"
   },
   "source": [
    "* Для получения высоких баллов используйте библиотеку Selenium при сборе данных\n",
    "* Реализуйте имитацию работы пользователя через Selenium\n",
    "* Про данную библиотеку можно почитать [тут](https://habr.com/ru/companies/selectel/articles/754674/) и [тут](https://happypython.ru/2022/11/27/selenium-chromedriver-find-elements/)"
   ]
  },
  {
   "cell_type": "markdown",
   "metadata": {
    "id": "nUgPW81IAl8k"
   },
   "source": [
    "## Критерии оценки проекта"
   ]
  },
  {
   "cell_type": "markdown",
   "metadata": {
    "id": "kPjYuWD_BX7C"
   },
   "source": [
    "Оценка за групповой проект в целом — то есть первая из двух оценок — выставляется по 10 балльной шкале, исходя из 3 критериев. Также комиссия на своё усмотрение может добавить (но не снизить) некоторое количество бонусных баллов за рамками данных критериев.\n",
    "\n",
    "Каждый из критериев будет перечислен и рассмотрен ниже."
   ]
  },
  {
   "cell_type": "markdown",
   "metadata": {
    "id": "lGGI5KRrCL5r"
   },
   "source": [
    "### Критерий 1. Выбор задачи и EDA (до 3,5 баллов)\n",
    "\n",
    "Данный критерий оценивает, насколько обоснованной и осмысленной получилась решаемая бизнес-задача; насколько полно был осуществлен переход от бизнес-задачи к пайплайну подготовки данных (насколько в реальности формируемый датасет соответствует исходной постановке задачи с точки зрения интересов компании и насколько может помочь в решении такой задачи); а также насколько корректными, объёмными и прикладными для бизнеса получились выявленные в ходе исследования инсайты."
   ]
  },
  {
   "cell_type": "markdown",
   "metadata": {
    "id": "DtcgCZ3FmZL-"
   },
   "source": [
    "### Критерий 2. GitHub (до 1 балла)\n",
    "\n",
    "Данный критерий оценивает, насколько корректным и квалифицированным было применение средств системы контроля версий в проекте; насколько были выполнены представленные в задании требования по всем необходимым файлам и условиям в рамках работы с GitHub; а также насколько эффективно данная система в действительности использовалась командой для распараллеливания задач по проекту."
   ]
  },
  {
   "cell_type": "markdown",
   "metadata": {
    "id": "GzH0e3v6DIsM"
   },
   "source": [
    "### Критерий 3. Инструменты извлечения данных (до 5,5 баллов)\n",
    "\n",
    "Данный критерий оценивает техническую реализацию процесса сбора данных автоматизированным образом с сайтов и порталов. В рамках этого критерия будет рассматриваться спектр различных технических инструментов, внедрённых в проект; корректность, эффективность и правильность их применения; а также сложность и новизна алгоритмов, подходов и библиотек, применяемых к данным.\n",
    "\n",
    "*__Важно:__ в случае оценки __1 балл и ниже__ за этот критерий — оценка за весь проект становится равна оценке за этот критерий.*\n",
    "\n",
    "*По данному критерию можно получить __больше 1 балла__ только при условии применения как средств Data Scraping (автоматического считывания HTML-кода страниц с последующей его обработкой), так и средств API (получению данных с использованием официальных протоколов компании/портала). При этом средства Scraping и API следует применять к разным компаниям/порталам, но представленным в рамках одной и той же предметной области (бизнес-задачи).*\n",
    "\n",
    "*По данному критерию можно получить **3 балла и выше** только при условии использования в проекте логирования __ИЛИ__ библиотеки Selenium.*\n",
    "\n",
    "*По данному критерию можно получить **4 балла и выше** только при условии использования в проекте логирования __И__ библиотеки Selenium.*\n",
    "\n",
    "*По данному критерию можно получить **5 баллов и выше** только при условии использования в проекте логирования, библиотеки Selenium и, кроме этого, обоснованного применения дополнительных инструментов/подходов/библиотек, не упомянутых ранее в этом ноутбуке и не рассматривавшихся в рамках соответствующего семинара.*"
   ]
  },
  {
   "cell_type": "code",
   "execution_count": 1,
   "metadata": {},
   "outputs": [
    {
     "name": "stdout",
     "output_type": "stream",
     "text": [
      "Defaulting to user installation because normal site-packages is not writeable\n",
      "Collecting selenium\n",
      "  Downloading selenium-4.29.0-py3-none-any.whl.metadata (7.1 kB)\n",
      "Requirement already satisfied: urllib3<3,>=1.26 in c:\\programdata\\anaconda3\\lib\\site-packages (from urllib3[socks]<3,>=1.26->selenium) (2.2.3)\n",
      "Collecting trio~=0.17 (from selenium)\n",
      "  Downloading trio-0.29.0-py3-none-any.whl.metadata (8.5 kB)\n",
      "Collecting trio-websocket~=0.9 (from selenium)\n",
      "  Downloading trio_websocket-0.12.2-py3-none-any.whl.metadata (5.1 kB)\n",
      "Requirement already satisfied: certifi>=2021.10.8 in c:\\programdata\\anaconda3\\lib\\site-packages (from selenium) (2024.8.30)\n",
      "Requirement already satisfied: typing_extensions~=4.9 in c:\\programdata\\anaconda3\\lib\\site-packages (from selenium) (4.11.0)\n",
      "Requirement already satisfied: websocket-client~=1.8 in c:\\programdata\\anaconda3\\lib\\site-packages (from selenium) (1.8.0)\n",
      "Collecting attrs>=23.2.0 (from trio~=0.17->selenium)\n",
      "  Downloading attrs-25.1.0-py3-none-any.whl.metadata (10 kB)\n",
      "Requirement already satisfied: sortedcontainers in c:\\programdata\\anaconda3\\lib\\site-packages (from trio~=0.17->selenium) (2.4.0)\n",
      "Requirement already satisfied: idna in c:\\programdata\\anaconda3\\lib\\site-packages (from trio~=0.17->selenium) (3.7)\n",
      "Collecting outcome (from trio~=0.17->selenium)\n",
      "  Downloading outcome-1.3.0.post0-py2.py3-none-any.whl.metadata (2.6 kB)\n",
      "Requirement already satisfied: sniffio>=1.3.0 in c:\\programdata\\anaconda3\\lib\\site-packages (from trio~=0.17->selenium) (1.3.0)\n",
      "Requirement already satisfied: cffi>=1.14 in c:\\programdata\\anaconda3\\lib\\site-packages (from trio~=0.17->selenium) (1.17.1)\n",
      "Collecting wsproto>=0.14 (from trio-websocket~=0.9->selenium)\n",
      "  Downloading wsproto-1.2.0-py3-none-any.whl.metadata (5.6 kB)\n",
      "Requirement already satisfied: pysocks!=1.5.7,<2.0,>=1.5.6 in c:\\programdata\\anaconda3\\lib\\site-packages (from urllib3[socks]<3,>=1.26->selenium) (1.7.1)\n",
      "Requirement already satisfied: pycparser in c:\\programdata\\anaconda3\\lib\\site-packages (from cffi>=1.14->trio~=0.17->selenium) (2.21)\n",
      "Requirement already satisfied: h11<1,>=0.9.0 in c:\\programdata\\anaconda3\\lib\\site-packages (from wsproto>=0.14->trio-websocket~=0.9->selenium) (0.14.0)\n",
      "Downloading selenium-4.29.0-py3-none-any.whl (9.5 MB)\n",
      "   ---------------------------------------- 0.0/9.5 MB ? eta -:--:--\n",
      "   ------- -------------------------------- 1.8/9.5 MB 16.7 MB/s eta 0:00:01\n",
      "   ---------------------------------------- 9.5/9.5 MB 37.1 MB/s eta 0:00:00\n",
      "Downloading trio-0.29.0-py3-none-any.whl (492 kB)\n",
      "Downloading trio_websocket-0.12.2-py3-none-any.whl (21 kB)\n",
      "Downloading attrs-25.1.0-py3-none-any.whl (63 kB)\n",
      "Downloading outcome-1.3.0.post0-py2.py3-none-any.whl (10 kB)\n",
      "Downloading wsproto-1.2.0-py3-none-any.whl (24 kB)\n",
      "Installing collected packages: wsproto, attrs, outcome, trio, trio-websocket, selenium\n",
      "Successfully installed attrs-25.1.0 outcome-1.3.0.post0 selenium-4.29.0 trio-0.29.0 trio-websocket-0.12.2 wsproto-1.2.0\n"
     ]
    }
   ],
   "source": [
    "!pip install selenium"
   ]
  },
  {
   "cell_type": "code",
   "execution_count": 2,
   "metadata": {},
   "outputs": [
    {
     "name": "stdout",
     "output_type": "stream",
     "text": [
      "Defaulting to user installation because normal site-packages is not writeable\n",
      "Collecting webdriver-manager\n",
      "  Downloading webdriver_manager-4.0.2-py2.py3-none-any.whl.metadata (12 kB)\n",
      "Requirement already satisfied: requests in c:\\programdata\\anaconda3\\lib\\site-packages (from webdriver-manager) (2.32.3)\n",
      "Requirement already satisfied: python-dotenv in c:\\programdata\\anaconda3\\lib\\site-packages (from webdriver-manager) (0.21.0)\n",
      "Requirement already satisfied: packaging in c:\\programdata\\anaconda3\\lib\\site-packages (from webdriver-manager) (24.1)\n",
      "Requirement already satisfied: charset-normalizer<4,>=2 in c:\\programdata\\anaconda3\\lib\\site-packages (from requests->webdriver-manager) (3.3.2)\n",
      "Requirement already satisfied: idna<4,>=2.5 in c:\\programdata\\anaconda3\\lib\\site-packages (from requests->webdriver-manager) (3.7)\n",
      "Requirement already satisfied: urllib3<3,>=1.21.1 in c:\\programdata\\anaconda3\\lib\\site-packages (from requests->webdriver-manager) (2.2.3)\n",
      "Requirement already satisfied: certifi>=2017.4.17 in c:\\programdata\\anaconda3\\lib\\site-packages (from requests->webdriver-manager) (2024.8.30)\n",
      "Downloading webdriver_manager-4.0.2-py2.py3-none-any.whl (27 kB)\n",
      "Installing collected packages: webdriver-manager\n",
      "Successfully installed webdriver-manager-4.0.2\n"
     ]
    }
   ],
   "source": [
    "!pip install webdriver-manager"
   ]
  },
  {
   "cell_type": "code",
   "execution_count": 40,
   "metadata": {},
   "outputs": [],
   "source": [
    "import pandas as pd \n",
    "import numpy as np \n",
    "import requests\n",
    "import sys\n",
    "import csv\n",
    "import time\n",
    "from selenium import webdriver\n",
    "from selenium.webdriver.chrome.service import Service\n",
    "from selenium.webdriver.common.by import By\n",
    "from selenium.webdriver.chrome.options import Options\n",
    "from bs4 import BeautifulSoup"
   ]
  },
  {
   "cell_type": "code",
   "execution_count": 43,
   "metadata": {},
   "outputs": [],
   "source": [
    "chrome_options = Options()\n",
    "chrome_options.add_argument(\"--headless\")  # Запуск в фоновом режиме (без открытия браузера)\n",
    "driver = webdriver.Chrome(options=chrome_options)\n",
    "\n",
    "url = 'https://www.amazon.co.uk/b/?node=14520136031&ref_=Oct_d_odnav_468292&pd_rd_w=FvuEM&content-id=amzn1.sym.c8ff8bec-8544-4214-9c1f-5922c982971f&pf_rd_p=c8ff8bec-8544-4214-9c1f-5922c982971f&pf_rd_r=HW8S3KXBCBAD3E80Y8B0&pd_rd_wg=tJPya&pd_rd_r=84a181d6-37dc-4205-b744-9a59a8d26cbd'\n",
    "\n",
    "driver.get(url)\n",
    "\n",
    "time.sleep(5)\n",
    "\n",
    "html = driver.page_source\n",
    "\n",
    "driver.quit()\n",
    "\n",
    "soup = BeautifulSoup(html, 'html.parser')"
   ]
  },
  {
   "cell_type": "code",
   "execution_count": 45,
   "metadata": {},
   "outputs": [
    {
     "data": {
      "text/plain": [
       "[<h2 class=\"nav-assistant-heading nav-assistant-headers-font\" id=\"nav-assistant-links-heading\">Skip to</h2>,\n",
       " <h2 class=\"nav-assistant-heading nav-assistant-headers-font font-color\" id=\"shortcuts-heading\">\n",
       "       Keyboard shortcuts\n",
       "   </h2>,\n",
       " <h2 class=\"a-size-base a-spacing-small a-spacing-top-small a-text-normal\">\n",
       " <span>1-24 of over 10,000 results for</span><span> </span><span class=\"a-color-state a-text-bold\">\"Model Building\"</span>\n",
       " </h2>,\n",
       " <h2 class=\"a-size-medium-plus a-spacing-none a-color-base a-text-bold\">Results</h2>,\n",
       " <h2 aria-label=\"Revell (Bandai original) 01207 Star Wars Death Star II 1:2700000 Scale / Star Destroyer 1:14500 Scale Unbuilt/Pre-coloured/Clip-Together (Non-Glue) Plastic Model Kits with Display Stands\" class=\"a-size-base-plus a-spacing-none a-color-base a-text-normal\"><span>Revell (Bandai original) 01207 Star Wars Death Star II 1:2700000 Scale / Star Destroyer 1:14500 Scale Unbuilt/Pre-coloured/Clip-Together (Non-Glue) Plastic Model Kits with Display Stands</span></h2>,\n",
       " <h2 aria-label=\"The Army Painter Battlefields Basing Set, 50ml PVA Glue, 35 Green Tufts, 1 Box of Fake Moss/Grass, Brown Battleground, Summer Undergrowth, Battle Rocks and Battlefield Snow for Warhammer 40k\" class=\"a-size-base-plus a-spacing-none a-color-base a-text-normal\"><span>The Army Painter Battlefields Basing Set, 50ml PVA Glue, 35 Green Tufts, 1 Box of Fake Moss/Grass, Brown Battleground, Summer Undergrowth, Battle Rocks and Battlefield Snow for Warhammer 40k</span></h2>,\n",
       " <h2 aria-label=\"Tamiya Extra Thin Liquid Cement Glue with Applicator Brush - 40ml Bottle - 87038\" class=\"a-size-base-plus a-spacing-none a-color-base a-text-normal\"><span>Tamiya Extra Thin Liquid Cement Glue with Applicator Brush - 40ml Bottle - 87038</span></h2>,\n",
       " <h2 aria-label=\"K'NEX | Creation Zone Building Set 50 Model | 417 Piece Educational Learning Kit with Storage Tub, Engineering Construction Toys for Kids 5+ | Basic Fun 16511\" class=\"a-size-base-plus a-spacing-none a-color-base a-text-normal\"><span>K'NEX | Creation Zone Building Set 50 Model | 417 Piece Educational Learning Kit with Storage Tub, Engineering Construction Toys for Kids 5+ | Basic Fun 16511</span></h2>,\n",
       " <h2 aria-label=\"MECCANO, 25-in-1 Motorized Supercar STEM Model Building Kit with 347 Parts, Real Tools and Working Lights, Kids Toys for Ages 10 and Up\" class=\"a-size-base-plus a-spacing-none a-color-base a-text-normal\"><span>MECCANO, 25-in-1 Motorized Supercar STEM Model Building Kit with 347 Parts, Real Tools and Working Lights, Kids Toys for Ages 10 and Up</span></h2>,\n",
       " <h2 aria-label=\"LEGO 31140 Creator 3 in 1 Magical Unicorn Toy to Seahorse to Peacock, Rainbow Animal Figures, Unicorn Gift for Girls and Boys, Buildable Toys\" class=\"a-size-base-plus a-spacing-none a-color-base a-text-normal\"><span>LEGO 31140 Creator 3 in 1 Magical Unicorn Toy to Seahorse to Peacock, Rainbow Animal Figures, Unicorn Gift for Girls and Boys, Buildable Toys</span></h2>,\n",
       " <h2 aria-label=\"The Army Painter | Colour Primer | Acrylic Spray Matte White 400 ml, Miniature Painting Primer\" class=\"a-size-base-plus a-spacing-none a-color-base a-text-normal\"><span>The Army Painter | Colour Primer | Acrylic Spray Matte White 400 ml, Miniature Painting Primer</span></h2>,\n",
       " <h2 aria-label=\"BGTXINGI 28PCS Modeler Basic Tools Craft Set Gundam Model Tools Kit with Plastic Box Hobby Model Assemble Building Repairing and Fixing DIY Craft Kit\" class=\"a-size-base-plus a-spacing-none a-color-base a-text-normal\"><span>BGTXINGI 28PCS Modeler Basic Tools Craft Set Gundam Model Tools Kit with Plastic Box Hobby Model Assemble Building Repairing and Fixing DIY Craft Kit</span></h2>,\n",
       " <h2 aria-label=\"Vallejo 20 ml Plastic Putty\" class=\"a-size-base-plus a-spacing-none a-color-base a-text-normal\"><span>Vallejo 20 ml Plastic Putty</span></h2>,\n",
       " <h2 aria-label=\"Aussel Gundam Model Tools Kit, Model Basic Tools Craft Set, Hobby Building Craft Set, for Basic Model Building Repairing and Fixing, 26 Pcs\" class=\"a-size-base-plus a-spacing-none a-color-base a-text-normal\"><span>Aussel Gundam Model Tools Kit, Model Basic Tools Craft Set, Hobby Building Craft Set, for Basic Model Building Repairing and Fixing, 26 Pcs</span></h2>,\n",
       " <h2 aria-label=\"Quay Spitfire Woodcraft Construction Kit FSC\" class=\"a-size-base-plus a-spacing-none a-color-base a-text-normal\"><span>Quay Spitfire Woodcraft Construction Kit FSC</span></h2>,\n",
       " <h2 aria-label=\"Airfix Starter Set - A55011 Aston Martin DB5 Model Building Kit - Plastic Model Car Kits for Adults &amp; Children 8+, Set Includes Decals, Humbrol Acrylic Paints, Brushes &amp; Poly Cement - 1:43 Scale Model\" class=\"a-size-base-plus a-spacing-none a-color-base a-text-normal\"><span>Airfix Starter Set - A55011 Aston Martin DB5 Model Building Kit - Plastic Model Car Kits for Adults &amp; Children 8+, Set Includes Decals, Humbrol Acrylic Paints, Brushes &amp; Poly Cement - 1:43 Scale Model</span></h2>,\n",
       " <h2 aria-label=\"Revell 04210 1:390 Boeing 747 Plastic Kit\" class=\"a-size-base-plus a-spacing-none a-color-base a-text-normal\"><span>Revell 04210 1:390 Boeing 747 Plastic Kit</span></h2>,\n",
       " <h2 aria-label=\"K'NEX | Rad Rides Building Set 12 Model | Educational Fun and Construction Toys for Boys and Girls, 206 Piece Stem Learning Kit, Engineering for Kids, for Children Ages 7+ | Basic fun 15214\" class=\"a-size-base-plus a-spacing-none a-color-base a-text-normal\"><span>K'NEX | Rad Rides Building Set 12 Model | Educational Fun and Construction Toys for Boys and Girls, 206 Piece Stem Learning Kit, Engineering for Kids, for Children Ages 7+ | Basic fun 15214</span></h2>,\n",
       " <h2 aria-label=\"Roxanex 29PCS Model Building Tools Kit, Hobby Building Tools Set Model Making Tools Kit Basic Tools Craft Set for Gundam Car Model Building Repairing and Fixing\" class=\"a-size-base-plus a-spacing-none a-color-base a-text-normal\"><span>Roxanex 29PCS Model Building Tools Kit, Hobby Building Tools Set Model Making Tools Kit Basic Tools Craft Set for Gundam Car Model Building Repairing and Fixing</span></h2>,\n",
       " <h2 aria-label='Revell Gift Set 05694 \"35 Years VW Golf 1 GTI Pirelli\" 1:24 Scale Unbuilt Plastic Model Kit with Contacta Professional Glue, Paintbrush &amp; Selected Aqua Color Paints' class=\"a-size-base-plus a-spacing-none a-color-base a-text-normal\"><span>Revell Gift Set 05694 \"35 Years VW Golf 1 GTI Pirelli\" 1:24 Scale Unbuilt Plastic Model Kit with Contacta Professional Glue, Paintbrush &amp; Selected Aqua Color Paints</span></h2>,\n",
       " <h2 aria-label=\"WiMas 64PCS Gundam Model Tools Kit, Building Craft Set, Model Basic Tools for Basic Model Building Repairing and Fixing\" class=\"a-size-base-plus a-spacing-none a-color-base a-text-normal\"><span>WiMas 64PCS Gundam Model Tools Kit, Building Craft Set, Model Basic Tools for Basic Model Building Repairing and Fixing</span></h2>,\n",
       " <h2 aria-label=\"Quay Sailing Ship Woodcraft Construction Kit FSC\" class=\"a-size-base-plus a-spacing-none a-color-base a-text-normal\"><span>Quay Sailing Ship Woodcraft Construction Kit FSC</span></h2>,\n",
       " <h2 aria-label='Model-Set Plus \"Modelling tools\"' class=\"a-size-base-plus a-spacing-none a-color-base a-text-normal\"><span>Model-Set Plus \"Modelling tools\"</span></h2>,\n",
       " <h2 aria-label=\"Metcalfe Po251 Manor Farm Barn &amp; Tractor Shed\" class=\"a-size-base-plus a-spacing-none a-color-base a-text-normal\"><span>Metcalfe Po251 Manor Farm Barn &amp; Tractor Shed</span></h2>,\n",
       " <h2 aria-label=\"Dapol Model Railway Thatched Cottage Plastic Kit - OO Scale 1/76,Multicolor,17.4 x 15.8 x 1.6 cm\" class=\"a-size-base-plus a-spacing-none a-color-base a-text-normal\"><span>Dapol Model Railway Thatched Cottage Plastic Kit - OO Scale 1/76,Multicolor,17.4 x 15.8 x 1.6 cm</span></h2>,\n",
       " <h2 aria-label=\"Stedi 4.8-inch Model Nipper, Model Tools with Sharp Thin Blade and Blade Case Plastic Model Accessories, Sprue Cutter for Gundam Building Repairing and Fixing, Black\" class=\"a-size-base-plus a-spacing-none a-color-base a-text-normal\"><span>Stedi 4.8-inch Model Nipper, Model Tools with Sharp Thin Blade and Blade Case Plastic Model Accessories, Sprue Cutter for Gundam Building Repairing and Fixing, Black</span></h2>,\n",
       " <h2 aria-label=\"Revell German Level 1/144 Antonov An-124 Ruslan Plastic Model 03807, Molded Color\" class=\"a-size-base-plus a-spacing-none a-color-base a-text-normal\"><span>Revell German Level 1/144 Antonov An-124 Ruslan Plastic Model 03807, Molded Color</span></h2>,\n",
       " <h2 aria-label=\"Hornby R590 OO Gauge Station Halt, Model Train Accessories for Adding Scenery, Dioramas, Woodland, Buildings and More to 00 Gauge Model Railway - 1:76 Scale, Grey\" class=\"a-size-base-plus a-spacing-none a-color-base a-text-normal\"><span>Hornby R590 OO Gauge Station Halt, Model Train Accessories for Adding Scenery, Dioramas, Woodland, Buildings and More to 00 Gauge Model Railway - 1:76 Scale, Grey</span></h2>,\n",
       " <h2 class=\"a-size-medium-plus a-color-base\">Do you need help?</h2>]"
      ]
     },
     "execution_count": 45,
     "metadata": {},
     "output_type": "execute_result"
    }
   ],
   "source": [
    "soup.find_all(\"h2\")"
   ]
  },
  {
   "cell_type": "code",
   "execution_count": null,
   "metadata": {},
   "outputs": [],
   "source": []
  }
 ],
 "metadata": {
  "colab": {
   "provenance": []
  },
  "kernelspec": {
   "display_name": "Python 3 (ipykernel)",
   "language": "python",
   "name": "python3"
  },
  "language_info": {
   "codemirror_mode": {
    "name": "ipython",
    "version": 3
   },
   "file_extension": ".py",
   "mimetype": "text/x-python",
   "name": "python",
   "nbconvert_exporter": "python",
   "pygments_lexer": "ipython3",
   "version": "3.12.7"
  }
 },
 "nbformat": 4,
 "nbformat_minor": 4
}
